{
 "cells": [
  {
   "cell_type": "markdown",
   "id": "4ad2de75",
   "metadata": {},
   "source": [
    "# 0. Import Library"
   ]
  },
  {
   "cell_type": "code",
   "execution_count": 1,
   "id": "904888ea",
   "metadata": {},
   "outputs": [],
   "source": [
    "import os\n",
    "if not os.path.exists(\"./tfdet\"):\n",
    "    !git clone -q http://github.com/burf/tfdetection.git\n",
    "    !mv ./tfdetection/tfdet ./tfdet\n",
    "    !rm -rf ./tfdetection"
   ]
  },
  {
   "cell_type": "code",
   "execution_count": 2,
   "id": "f582e66a",
   "metadata": {},
   "outputs": [],
   "source": [
    "#ignore warning\n",
    "import warnings, os\n",
    "warnings.filterwarnings(action = \"ignore\")\n",
    "os.environ[\"TF_CPP_MIN_LOG_LEVEL\"] = \"3\"\n",
    "import tensorflow as tf\n",
    "tf.compat.v1.logging.set_verbosity(tf.compat.v1.logging.ERROR)\n",
    "\n",
    "import tfdet"
   ]
  },
  {
   "cell_type": "markdown",
   "id": "dcbdf903",
   "metadata": {},
   "source": [
    "# 1. Init Dataset"
   ]
  },
  {
   "cell_type": "code",
   "execution_count": 3,
   "id": "d1ad6e9e",
   "metadata": {},
   "outputs": [],
   "source": [
    "#sample dataset\n",
    "import numpy as np\n",
    "\n",
    "#image_shape = [512, 512]\n",
    "image_shape = [256, 256]\n",
    "n_class = 21 #background + 20 label\n",
    "batch_size = 16\n",
    "\n",
    "def load(x_true, mask = True):\n",
    "    max_pad_size = np.random.randint(10) + 1\n",
    "    \n",
    "    image = np.random.random([*image_shape, 3]).astype(np.float32)\n",
    "    y_true = np.random.randint(n_class, size = [max_pad_size, 1]).astype(np.int32)\n",
    "    bbox_true = np.array([tfdet.core.bbox.random_bbox(image_shape = image_shape) for _ in range(max_pad_size)], dtype = np.int32)\n",
    "    result = [image, y_true, bbox_true]\n",
    "    if mask:\n",
    "        mask_true = np.random.randint(2, size = (max_pad_size, *image_shape, 1)).astype(np.uint8)\n",
    "        result = [image, y_true, bbox_true, mask_true]\n",
    "    return tuple(result)\n",
    "\n",
    "def mask_func(mask_true):\n",
    "    return np.max(mask_true, axis = 0)\n",
    "\n",
    "def instance2semantic(x_true, y_true = None, bbox_true = None, mask_true = None, label = None):\n",
    "    if y_true is not None and mask_true is not None:\n",
    "        mask_true = tfdet.dataset.util.instance2semantic(y_true, mask_true, label = label)\n",
    "    result = [v for v in [x_true, y_true, bbox_true, mask_true] if v is not None]\n",
    "    result = result[0] if len(result) == 1 else tuple(result)\n",
    "    return result\n",
    "\n",
    "mask_dataset = tfdet.dataset.Dataset(np.arange(10), transform = [{\"name\":load, \"mask\":True}, #or load,\n",
    "                                                                 {\"name\":\"resize\", \"image_shape\":image_shape},\n",
    "                                                                 {\"name\":\"filter_annotation\"},\n",
    "                                                                 #{\"name\":\"label_encode\", \"label\":None},\n",
    "                                                                 {\"name\":\"normalize\", \"mean\":[123.675, 116.28, 103.53], \"std\":[58.395, 57.12, 57.375]},\n",
    "                                                                 {\"name\":\"pad\", \"image_shape\":image_shape, \"pad_val\":0},\n",
    "                                                                 {\"name\":\"mask_downscale\", \"scale\":4},\n",
    "                                                                 instance2semantic, #or {\"name\":\"load\", \"mask_func\":mask_func},\n",
    "                                                                ])\n",
    "\n",
    "mask_pipe = tfdet.dataset.PipeLoader(mask_dataset)\n",
    "mask_pipe = tfdet.dataset.pipeline.args2dict(mask_pipe, keys = [\"x_true\", \"y_true\", \"bbox_true\", \"mask_true\"])\n",
    "mask_pipe = tfdet.dataset.pipeline.collect(mask_pipe, keys = [\"x_true\", \"mask_true\"], batch_size = batch_size, prefetch = True)"
   ]
  },
  {
   "cell_type": "markdown",
   "id": "153740d9",
   "metadata": {},
   "source": [
    "## 2. Build Semantic Segmentation"
   ]
  },
  {
   "cell_type": "markdown",
   "id": "74ae360d",
   "metadata": {},
   "source": [
    "2-1. DeepLabV3"
   ]
  },
  {
   "cell_type": "code",
   "execution_count": 4,
   "id": "4e6fbc6d",
   "metadata": {},
   "outputs": [
    {
     "name": "stdout",
     "output_type": "stream",
     "text": [
      "1/1 [==============================] - 3s 3s/step - loss: 4.2687 - loss_mask: 3.0409 - loss_aux_mask: 1.2278\n"
     ]
    },
    {
     "data": {
      "text/plain": [
       "(10, 8, 8, 21)"
      ]
     },
     "execution_count": 4,
     "metadata": {},
     "output_type": "execute_result"
    }
   ],
   "source": [
    "#train\n",
    "x = tf.keras.layers.Input(shape = [*image_shape, 3], name = \"x_true\")\n",
    "feature = tfdet.model.backbone.resnet50(x, weights = \"imagenet_v2\")\n",
    "\n",
    "out = tfdet.model.detector.deeplab_v3(feature, n_class = n_class)\n",
    "aux_out = tfdet.model.detector.aux_fcn(feature, n_class = n_class)\n",
    "model = tfdet.model.train.segmentation.train_model(x, out, aux_out)\n",
    "\n",
    "model.compile()\n",
    "model.evaluate(mask_pipe)\n",
    "model.save_weights(\"weights.h5\") #or tf.keras.Model(x, out).save_weights(\"weights.h5\")\n",
    "\n",
    "model.predict(mask_pipe, verbose = 0).shape"
   ]
  },
  {
   "cell_type": "code",
   "execution_count": 5,
   "id": "2f13bfbd",
   "metadata": {},
   "outputs": [
    {
     "data": {
      "text/plain": [
       "(10, 8, 8, 21)"
      ]
     },
     "execution_count": 5,
     "metadata": {},
     "output_type": "execute_result"
    }
   ],
   "source": [
    "#predict\n",
    "x = tf.keras.layers.Input(shape = [*image_shape, 3], name = \"x_true\")\n",
    "feature = tfdet.model.backbone.resnet50(x, weights = \"imagenet_v2\")\n",
    "\n",
    "out = tfdet.model.detector.deeplab_v3(feature, n_class = n_class)\n",
    "model = tf.keras.Model(x, out)\n",
    "model.load_weights(\"weights.h5\", by_name = True)\n",
    "\n",
    "model.predict(mask_pipe, verbose = 0).shape"
   ]
  },
  {
   "cell_type": "markdown",
   "id": "d0c207c0",
   "metadata": {},
   "source": [
    "2-2. DeepLabV3Plus"
   ]
  },
  {
   "cell_type": "code",
   "execution_count": 6,
   "id": "74057eaf",
   "metadata": {},
   "outputs": [
    {
     "name": "stdout",
     "output_type": "stream",
     "text": [
      "1/1 [==============================] - 4s 4s/step - loss: 4.3048 - loss_mask: 3.0866 - loss_aux_mask: 1.2182\n"
     ]
    },
    {
     "data": {
      "text/plain": [
       "(10, 64, 64, 21)"
      ]
     },
     "execution_count": 6,
     "metadata": {},
     "output_type": "execute_result"
    }
   ],
   "source": [
    "#train\n",
    "x = tf.keras.layers.Input(shape = [*image_shape, 3], name = \"x_true\")\n",
    "feature = tfdet.model.backbone.resnet50(x, weights = \"imagenet_v2\")\n",
    "\n",
    "out = tfdet.model.detector.deeplab_v3_plus(feature, n_class = n_class)\n",
    "aux_out = tfdet.model.detector.aux_fcn(feature, n_class = n_class)\n",
    "model = tfdet.model.train.segmentation.train_model(x, out, aux_out)\n",
    "\n",
    "model.compile()\n",
    "model.evaluate(mask_pipe)\n",
    "model.save_weights(\"weights.h5\") #or tf.keras.Model(x, out).save_weights(\"weights.h5\")\n",
    "\n",
    "model.predict(mask_pipe, verbose = 0).shape"
   ]
  },
  {
   "cell_type": "code",
   "execution_count": 7,
   "id": "de97868b",
   "metadata": {},
   "outputs": [
    {
     "data": {
      "text/plain": [
       "(10, 64, 64, 21)"
      ]
     },
     "execution_count": 7,
     "metadata": {},
     "output_type": "execute_result"
    }
   ],
   "source": [
    "#predict\n",
    "x = tf.keras.layers.Input(shape = [*image_shape, 3], name = \"x_true\")\n",
    "feature = tfdet.model.backbone.resnet50(x, weights = \"imagenet_v2\")\n",
    "\n",
    "out = tfdet.model.detector.deeplab_v3_plus(feature, n_class = n_class)\n",
    "model = tf.keras.Model(x, out)\n",
    "model.load_weights(\"weights.h5\", by_name = True)\n",
    "\n",
    "model.predict(mask_pipe, verbose = 0).shape"
   ]
  },
  {
   "cell_type": "markdown",
   "id": "bc58e731",
   "metadata": {},
   "source": [
    "2-3. U-Net"
   ]
  },
  {
   "cell_type": "code",
   "execution_count": 8,
   "id": "c350aa77",
   "metadata": {},
   "outputs": [
    {
     "name": "stdout",
     "output_type": "stream",
     "text": [
      "1/1 [==============================] - 4s 4s/step - loss: 3.0301\n"
     ]
    },
    {
     "data": {
      "text/plain": [
       "(10, 256, 256, 21)"
      ]
     },
     "execution_count": 8,
     "metadata": {},
     "output_type": "execute_result"
    }
   ],
   "source": [
    "#train\n",
    "x = tf.keras.layers.Input(shape = [*image_shape, 3], name = \"x_true\")\n",
    "\n",
    "out = tfdet.model.detector.unet(x, n_class = n_class)\n",
    "model = tfdet.model.train.segmentation.train_model(x, out)\n",
    "\n",
    "model.compile()\n",
    "model.evaluate(mask_pipe)\n",
    "model.save_weights(\"weights.h5\") #or tf.keras.Model(x, out).save_weights(\"weights.h5\")\n",
    "\n",
    "model.predict(mask_pipe, verbose = 0).shape"
   ]
  },
  {
   "cell_type": "code",
   "execution_count": 9,
   "id": "9f26940c",
   "metadata": {},
   "outputs": [
    {
     "data": {
      "text/plain": [
       "(10, 256, 256, 21)"
      ]
     },
     "execution_count": 9,
     "metadata": {},
     "output_type": "execute_result"
    }
   ],
   "source": [
    "#predict\n",
    "x = tf.keras.layers.Input(shape = [*image_shape, 3], name = \"x_true\")\n",
    "\n",
    "out = tfdet.model.detector.unet(x, n_class = n_class)\n",
    "model = tf.keras.Model(x, out)\n",
    "model.load_weights(\"weights.h5\", by_name = True)\n",
    "\n",
    "model.predict(mask_pipe, verbose = 0).shape"
   ]
  },
  {
   "cell_type": "markdown",
   "id": "ae458fb6",
   "metadata": {},
   "source": [
    "2-4. U-Net++"
   ]
  },
  {
   "cell_type": "code",
   "execution_count": 10,
   "id": "2f8e7ef9",
   "metadata": {},
   "outputs": [
    {
     "name": "stdout",
     "output_type": "stream",
     "text": [
      "1/1 [==============================] - 2s 2s/step - loss: 4.2971 - loss_mask: 3.0900 - loss_aux_mask: 1.2071\n"
     ]
    },
    {
     "data": {
      "text/plain": [
       "(10, 64, 64, 21)"
      ]
     },
     "execution_count": 10,
     "metadata": {},
     "output_type": "execute_result"
    }
   ],
   "source": [
    "#train\n",
    "x = tf.keras.layers.Input(shape = [*image_shape, 3], name = \"x_true\")\n",
    "feature = tfdet.model.backbone.resnet50(x, weights = \"imagenet_v2\")\n",
    "\n",
    "out = tfdet.model.detector.unet_2plus(feature, n_class = n_class)\n",
    "aux_out = tfdet.model.detector.aux_fcn(feature, n_class = n_class)\n",
    "model = tfdet.model.train.segmentation.train_model(x, out, aux_out)\n",
    "\n",
    "model.compile()\n",
    "model.evaluate(mask_pipe)\n",
    "model.save_weights(\"weights.h5\") #or tf.keras.Model(x, out).save_weights(\"weights.h5\")\n",
    "\n",
    "model.predict(mask_pipe, verbose = 0).shape"
   ]
  },
  {
   "cell_type": "code",
   "execution_count": 11,
   "id": "b00c7e26",
   "metadata": {},
   "outputs": [
    {
     "data": {
      "text/plain": [
       "(10, 64, 64, 21)"
      ]
     },
     "execution_count": 11,
     "metadata": {},
     "output_type": "execute_result"
    }
   ],
   "source": [
    "#predict\n",
    "x = tf.keras.layers.Input(shape = [*image_shape, 3], name = \"x_true\")\n",
    "feature = tfdet.model.backbone.resnet50(x, weights = \"imagenet_v2\")\n",
    "\n",
    "out = tfdet.model.detector.unet_2plus(feature, n_class = n_class)\n",
    "model = tf.keras.Model(x, out)\n",
    "model.load_weights(\"weights.h5\", by_name = True)\n",
    "\n",
    "model.predict(mask_pipe, verbose = 0).shape"
   ]
  },
  {
   "cell_type": "markdown",
   "id": "f7cb6916",
   "metadata": {},
   "source": [
    "2-5. FCN"
   ]
  },
  {
   "cell_type": "code",
   "execution_count": 12,
   "id": "ac958496",
   "metadata": {},
   "outputs": [
    {
     "name": "stdout",
     "output_type": "stream",
     "text": [
      "1/1 [==============================] - 2s 2s/step - loss: 4.2736 - loss_mask: 3.0505 - loss_aux_mask: 1.2231\n"
     ]
    },
    {
     "data": {
      "text/plain": [
       "(10, 8, 8, 21)"
      ]
     },
     "execution_count": 12,
     "metadata": {},
     "output_type": "execute_result"
    }
   ],
   "source": [
    "#train\n",
    "x = tf.keras.layers.Input(shape = [*image_shape, 3], name = \"x_true\")\n",
    "feature = tfdet.model.backbone.resnet50(x, weights = \"imagenet_v2\")\n",
    "\n",
    "out = tfdet.model.detector.fcn(feature, n_class = n_class)\n",
    "aux_out = tfdet.model.detector.aux_fcn(feature, n_class = n_class)\n",
    "model = tfdet.model.train.segmentation.train_model(x, out, aux_out)\n",
    "\n",
    "model.compile()\n",
    "model.evaluate(mask_pipe)\n",
    "model.save_weights(\"weights.h5\") #or tf.keras.Model(x, out).save_weights(\"weights.h5\")\n",
    "\n",
    "model.predict(mask_pipe, verbose = 0).shape"
   ]
  },
  {
   "cell_type": "code",
   "execution_count": 13,
   "id": "dd93f5ff",
   "metadata": {},
   "outputs": [
    {
     "data": {
      "text/plain": [
       "(10, 8, 8, 21)"
      ]
     },
     "execution_count": 13,
     "metadata": {},
     "output_type": "execute_result"
    }
   ],
   "source": [
    "#predict\n",
    "x = tf.keras.layers.Input(shape = [*image_shape, 3], name = \"x_true\")\n",
    "feature = tfdet.model.backbone.resnet50(x, weights = \"imagenet_v2\")\n",
    "\n",
    "out = tfdet.model.detector.fcn(feature, n_class = n_class)\n",
    "model = tf.keras.Model(x, out)\n",
    "model.load_weights(\"weights.h5\", by_name = True)\n",
    "\n",
    "model.predict(mask_pipe, verbose = 0).shape"
   ]
  },
  {
   "cell_type": "markdown",
   "id": "d671f029",
   "metadata": {},
   "source": [
    "2-6. PSPNet"
   ]
  },
  {
   "cell_type": "code",
   "execution_count": 14,
   "id": "25021081",
   "metadata": {},
   "outputs": [
    {
     "name": "stdout",
     "output_type": "stream",
     "text": [
      "1/1 [==============================] - 2s 2s/step - loss: 4.2496 - loss_mask: 3.0441 - loss_aux_mask: 1.2055\n"
     ]
    },
    {
     "data": {
      "text/plain": [
       "(10, 8, 8, 21)"
      ]
     },
     "execution_count": 14,
     "metadata": {},
     "output_type": "execute_result"
    }
   ],
   "source": [
    "#train\n",
    "x = tf.keras.layers.Input(shape = [*image_shape, 3], name = \"x_true\")\n",
    "feature = tfdet.model.backbone.resnet50(x, weights = \"imagenet_v2\")\n",
    "\n",
    "out = tfdet.model.detector.pspnet(feature, n_class = n_class)\n",
    "aux_out = tfdet.model.detector.aux_fcn(feature, n_class = n_class)\n",
    "model = tfdet.model.train.segmentation.train_model(x, out, aux_out)\n",
    "\n",
    "model.compile()\n",
    "model.evaluate(mask_pipe)\n",
    "model.save_weights(\"weights.h5\") #or tf.keras.Model(x, out).save_weights(\"weights.h5\")\n",
    "\n",
    "model.predict(mask_pipe, verbose = 0).shape"
   ]
  },
  {
   "cell_type": "code",
   "execution_count": 15,
   "id": "132a0e3a",
   "metadata": {},
   "outputs": [
    {
     "data": {
      "text/plain": [
       "(10, 8, 8, 21)"
      ]
     },
     "execution_count": 15,
     "metadata": {},
     "output_type": "execute_result"
    }
   ],
   "source": [
    "#predict\n",
    "x = tf.keras.layers.Input(shape = [*image_shape, 3], name = \"x_true\")\n",
    "feature = tfdet.model.backbone.resnet50(x, weights = \"imagenet_v2\")\n",
    "\n",
    "out = tfdet.model.detector.pspnet(feature, n_class = n_class)\n",
    "model = tf.keras.Model(x, out)\n",
    "model.load_weights(\"weights.h5\", by_name = True)\n",
    "\n",
    "model.predict(mask_pipe, verbose = 0).shape"
   ]
  },
  {
   "cell_type": "markdown",
   "id": "67a28b52",
   "metadata": {},
   "source": [
    "2-7. UPerNet"
   ]
  },
  {
   "cell_type": "code",
   "execution_count": 16,
   "id": "b1000ba4",
   "metadata": {},
   "outputs": [
    {
     "name": "stdout",
     "output_type": "stream",
     "text": [
      "1/1 [==============================] - 4s 4s/step - loss: 4.1414 - loss_mask: 2.9285 - loss_aux_mask: 1.2129\n"
     ]
    },
    {
     "data": {
      "text/plain": [
       "(10, 64, 64, 21)"
      ]
     },
     "execution_count": 16,
     "metadata": {},
     "output_type": "execute_result"
    }
   ],
   "source": [
    "#train\n",
    "x = tf.keras.layers.Input(shape = [*image_shape, 3], name = \"x_true\")\n",
    "feature = tfdet.model.backbone.resnet50(x, weights = \"imagenet_v2\")\n",
    "\n",
    "out = tfdet.model.detector.upernet(feature, n_class = n_class)\n",
    "aux_out = tfdet.model.detector.aux_fcn(feature, n_class = n_class)\n",
    "model = tfdet.model.train.segmentation.train_model(x, out, aux_out)\n",
    "\n",
    "model.compile()\n",
    "model.evaluate(mask_pipe)\n",
    "model.save_weights(\"weights.h5\") #or tf.keras.Model(x, out).save_weights(\"weights.h5\")\n",
    "\n",
    "model.predict(mask_pipe, verbose = 0).shape"
   ]
  },
  {
   "cell_type": "code",
   "execution_count": 17,
   "id": "f18d44f5",
   "metadata": {},
   "outputs": [
    {
     "data": {
      "text/plain": [
       "(10, 64, 64, 21)"
      ]
     },
     "execution_count": 17,
     "metadata": {},
     "output_type": "execute_result"
    }
   ],
   "source": [
    "#predict\n",
    "x = tf.keras.layers.Input(shape = [*image_shape, 3], name = \"x_true\")\n",
    "feature = tfdet.model.backbone.resnet50(x, weights = \"imagenet_v2\")\n",
    "\n",
    "out = tfdet.model.detector.upernet(feature, n_class = n_class)\n",
    "model = tf.keras.Model(x, out)\n",
    "model.load_weights(\"weights.h5\", by_name = True)\n",
    "\n",
    "model.predict(mask_pipe, verbose = 0).shape"
   ]
  },
  {
   "cell_type": "code",
   "execution_count": null,
   "id": "38dca02b",
   "metadata": {},
   "outputs": [],
   "source": []
  }
 ],
 "metadata": {
  "kernelspec": {
   "display_name": "Python 3 (ipykernel)",
   "language": "python",
   "name": "python3"
  },
  "language_info": {
   "codemirror_mode": {
    "name": "ipython",
    "version": 3
   },
   "file_extension": ".py",
   "mimetype": "text/x-python",
   "name": "python",
   "nbconvert_exporter": "python",
   "pygments_lexer": "ipython3",
   "version": "3.9.13"
  }
 },
 "nbformat": 4,
 "nbformat_minor": 5
}
