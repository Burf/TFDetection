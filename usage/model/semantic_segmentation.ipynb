{
 "cells": [
  {
   "cell_type": "markdown",
   "id": "2dc44dd0",
   "metadata": {},
   "source": [
    "# 0. Import Library"
   ]
  },
  {
   "cell_type": "code",
   "execution_count": 1,
   "id": "660eb64a",
   "metadata": {},
   "outputs": [],
   "source": [
    "import os\n",
    "if not os.path.exists(\"./tfdet\"):\n",
    "    !git clone -q http://github.com/burf/tfdetection.git\n",
    "    !mv ./tfdetection/tfdet ./tfdet\n",
    "    !rm -rf ./tfdetection"
   ]
  },
  {
   "cell_type": "code",
   "execution_count": 2,
   "id": "d445b83b",
   "metadata": {},
   "outputs": [],
   "source": [
    "#ignore warning\n",
    "import warnings, os\n",
    "warnings.filterwarnings(action = \"ignore\")\n",
    "os.environ[\"TF_CPP_MIN_LOG_LEVEL\"] = \"3\"\n",
    "import tensorflow as tf\n",
    "tf.compat.v1.logging.set_verbosity(tf.compat.v1.logging.ERROR)\n",
    "\n",
    "import tfdet"
   ]
  },
  {
   "cell_type": "markdown",
   "id": "071d3b9f",
   "metadata": {},
   "source": [
    "# 1. Init Dataset"
   ]
  },
  {
   "cell_type": "code",
   "execution_count": 3,
   "id": "76861457",
   "metadata": {},
   "outputs": [],
   "source": [
    "#sample dataset\n",
    "import numpy as np\n",
    "\n",
    "image_shape = [512, 512]\n",
    "n_class = 21 #background + 20 label\n",
    "total_data_size = 4\n",
    "batch_size = 1\n",
    "\n",
    "def load():\n",
    "    image = np.random.random([*image_shape, 3]).astype(np.float32)\n",
    "    mask_true = np.random.random((*image_shape, n_class)).astype(np.float32)\n",
    "    return (image, mask_true)\n",
    "\n",
    "def generator():\n",
    "    for _ in range(total_data_size):\n",
    "        yield load()\n",
    "        \n",
    "mask_pipe = tf.data.Dataset.from_generator(generator, (tf.float32, tf.float32)).batch(batch_size)"
   ]
  },
  {
   "cell_type": "markdown",
   "id": "a0d98642",
   "metadata": {},
   "source": [
    "## 2. Build Semantic Segmentation"
   ]
  },
  {
   "cell_type": "markdown",
   "id": "bce58fcf",
   "metadata": {},
   "source": [
    "2-1. DeepLab"
   ]
  },
  {
   "cell_type": "code",
   "execution_count": 4,
   "id": "1b3f06b2",
   "metadata": {},
   "outputs": [
    {
     "name": "stdout",
     "output_type": "stream",
     "text": [
      "4/4 [==============================] - 3s 583ms/step - loss: 34.4099\n"
     ]
    },
    {
     "data": {
      "text/plain": [
       "(4, 512, 512, 21)"
      ]
     },
     "execution_count": 4,
     "metadata": {},
     "output_type": "execute_result"
    }
   ],
   "source": [
    "x = tf.keras.layers.Input(shape = [*image_shape, 3])\n",
    "feature = tfdet.model.backbone.resnet50(x, weights = \"imagenet\")\n",
    "\n",
    "out = tfdet.model.detector.deeplab_v3(feature, n_class = n_class)\n",
    "out = tf.keras.layers.UpSampling2D((32, 32))(out)\n",
    "model = tf.keras.Model(x, out)\n",
    "\n",
    "model.compile(loss = tf.keras.losses.categorical_crossentropy)\n",
    "model.evaluate(mask_pipe)\n",
    "\n",
    "model.predict(mask_pipe, verbose = 0).shape"
   ]
  },
  {
   "cell_type": "code",
   "execution_count": 5,
   "id": "1796e351",
   "metadata": {},
   "outputs": [
    {
     "name": "stdout",
     "output_type": "stream",
     "text": [
      "4/4 [==============================] - 3s 576ms/step - loss: 34.4107\n"
     ]
    },
    {
     "data": {
      "text/plain": [
       "(4, 512, 512, 21)"
      ]
     },
     "execution_count": 5,
     "metadata": {},
     "output_type": "execute_result"
    }
   ],
   "source": [
    "x = tf.keras.layers.Input(shape = [*image_shape, 3])\n",
    "feature = tfdet.model.backbone.resnet50(x, weights = \"imagenet\")\n",
    "\n",
    "out = tfdet.model.detector.deeplab_v3_plus(feature, n_class = n_class)\n",
    "out = tf.keras.layers.UpSampling2D((4, 4))(out)\n",
    "model = tf.keras.Model(x, out)\n",
    "\n",
    "model.compile(loss = tf.keras.losses.categorical_crossentropy)\n",
    "model.evaluate(mask_pipe)\n",
    "\n",
    "model.predict(mask_pipe, verbose = 0).shape"
   ]
  },
  {
   "cell_type": "markdown",
   "id": "b46384ec",
   "metadata": {},
   "source": [
    "2-2. U-Net"
   ]
  },
  {
   "cell_type": "code",
   "execution_count": 6,
   "id": "f23674fc",
   "metadata": {},
   "outputs": [
    {
     "name": "stdout",
     "output_type": "stream",
     "text": [
      "4/4 [==============================] - 6s 1s/step - loss: 32.3792\n"
     ]
    },
    {
     "data": {
      "text/plain": [
       "(4, 512, 512, 21)"
      ]
     },
     "execution_count": 6,
     "metadata": {},
     "output_type": "execute_result"
    }
   ],
   "source": [
    "x = tf.keras.layers.Input(shape = [*image_shape, 3])\n",
    "\n",
    "out = tfdet.model.detector.unet(x, n_class = n_class)\n",
    "model = tf.keras.Model(x, out)\n",
    "\n",
    "model.compile(loss = tf.keras.losses.categorical_crossentropy)\n",
    "model.evaluate(mask_pipe)\n",
    "\n",
    "model.predict(mask_pipe, verbose = 0).shape"
   ]
  },
  {
   "cell_type": "code",
   "execution_count": 7,
   "id": "2b662612",
   "metadata": {},
   "outputs": [
    {
     "name": "stdout",
     "output_type": "stream",
     "text": [
      "4/4 [==============================] - 3s 502ms/step - loss: 35.3952\n"
     ]
    },
    {
     "data": {
      "text/plain": [
       "(4, 512, 512, 21)"
      ]
     },
     "execution_count": 7,
     "metadata": {},
     "output_type": "execute_result"
    }
   ],
   "source": [
    "x = tf.keras.layers.Input(shape = [*image_shape, 3])\n",
    "feature = tfdet.model.backbone.resnet50(x, weights = \"imagenet\")\n",
    "\n",
    "out = tfdet.model.detector.unet(feature, n_class = n_class)\n",
    "out = tf.keras.layers.UpSampling2D((4, 4))(out)\n",
    "model = tf.keras.Model(x, out)\n",
    "\n",
    "model.compile(loss = tf.keras.losses.categorical_crossentropy)\n",
    "model.evaluate(mask_pipe)\n",
    "\n",
    "model.predict(mask_pipe, verbose = 0).shape"
   ]
  },
  {
   "cell_type": "code",
   "execution_count": 8,
   "id": "f1e96789",
   "metadata": {},
   "outputs": [
    {
     "name": "stdout",
     "output_type": "stream",
     "text": [
      "4/4 [==============================] - 3s 565ms/step - loss: 35.5560\n"
     ]
    },
    {
     "data": {
      "text/plain": [
       "(4, 512, 512, 21)"
      ]
     },
     "execution_count": 8,
     "metadata": {},
     "output_type": "execute_result"
    }
   ],
   "source": [
    "x = tf.keras.layers.Input(shape = [*image_shape, 3])\n",
    "feature = tfdet.model.backbone.resnet50(x, weights = \"imagenet\")\n",
    "\n",
    "out = tfdet.model.detector.unet_2plus(feature, n_class = n_class)\n",
    "out = tf.keras.layers.UpSampling2D((4, 4))(out)\n",
    "model = tf.keras.Model(x, out)\n",
    "\n",
    "model.compile(loss = tf.keras.losses.categorical_crossentropy)\n",
    "model.evaluate(mask_pipe)\n",
    "\n",
    "model.predict(mask_pipe, verbose = 0).shape"
   ]
  },
  {
   "cell_type": "markdown",
   "id": "458f631b",
   "metadata": {},
   "source": [
    "2-3. Etc"
   ]
  },
  {
   "cell_type": "code",
   "execution_count": 9,
   "id": "3fab6d77",
   "metadata": {},
   "outputs": [
    {
     "name": "stdout",
     "output_type": "stream",
     "text": [
      "4/4 [==============================] - 14s 3s/step - loss: 35.1624\n"
     ]
    },
    {
     "data": {
      "text/plain": [
       "(4, 512, 512, 21)"
      ]
     },
     "execution_count": 9,
     "metadata": {},
     "output_type": "execute_result"
    }
   ],
   "source": [
    "x = tf.keras.layers.Input(shape = [*image_shape, 3])\n",
    "feature = tfdet.model.backbone.resnet50(x, weights = \"imagenet\")\n",
    "\n",
    "out = tfdet.model.detector.fcn(feature, n_class = n_class)\n",
    "out = tf.keras.layers.UpSampling2D((4, 4))(out)\n",
    "model = tf.keras.Model(x, out)\n",
    "\n",
    "model.compile(loss = tf.keras.losses.categorical_crossentropy)\n",
    "model.evaluate(mask_pipe)\n",
    "\n",
    "model.predict(mask_pipe, verbose = 0).shape"
   ]
  },
  {
   "cell_type": "code",
   "execution_count": 10,
   "id": "8eb975a4",
   "metadata": {},
   "outputs": [
    {
     "name": "stdout",
     "output_type": "stream",
     "text": [
      "4/4 [==============================] - 11s 3s/step - loss: 36.0496\n"
     ]
    },
    {
     "data": {
      "text/plain": [
       "(4, 512, 512, 21)"
      ]
     },
     "execution_count": 10,
     "metadata": {},
     "output_type": "execute_result"
    }
   ],
   "source": [
    "x = tf.keras.layers.Input(shape = [*image_shape, 3])\n",
    "feature = tfdet.model.backbone.resnet50(x, weights = \"imagenet\")\n",
    "\n",
    "out = tfdet.model.detector.pspnet(feature, n_class = n_class)\n",
    "out = tf.keras.layers.UpSampling2D((4, 4))(out)\n",
    "model = tf.keras.Model(x, out)\n",
    "\n",
    "model.compile(loss = tf.keras.losses.categorical_crossentropy)\n",
    "model.evaluate(mask_pipe)\n",
    "\n",
    "model.predict(mask_pipe, verbose = 0).shape"
   ]
  },
  {
   "cell_type": "code",
   "execution_count": 11,
   "id": "e32b30ac",
   "metadata": {},
   "outputs": [
    {
     "name": "stdout",
     "output_type": "stream",
     "text": [
      "4/4 [==============================] - 7s 2s/step - loss: 37.5061\n"
     ]
    },
    {
     "data": {
      "text/plain": [
       "(4, 512, 512, 21)"
      ]
     },
     "execution_count": 11,
     "metadata": {},
     "output_type": "execute_result"
    }
   ],
   "source": [
    "x = tf.keras.layers.Input(shape = [*image_shape, 3])\n",
    "feature = tfdet.model.backbone.resnet50(x, weights = \"imagenet\")\n",
    "\n",
    "out = tfdet.model.detector.upernet(feature, n_class = n_class)\n",
    "out = tf.keras.layers.UpSampling2D((4, 4))(out)\n",
    "model = tf.keras.Model(x, out)\n",
    "\n",
    "model.compile(loss = tf.keras.losses.categorical_crossentropy)\n",
    "model.evaluate(mask_pipe)\n",
    "\n",
    "model.predict(mask_pipe, verbose = 0).shape"
   ]
  },
  {
   "cell_type": "code",
   "execution_count": null,
   "id": "9713ae3d",
   "metadata": {},
   "outputs": [],
   "source": []
  }
 ],
 "metadata": {
  "kernelspec": {
   "display_name": "Python 3 (ipykernel)",
   "language": "python",
   "name": "python3"
  },
  "language_info": {
   "codemirror_mode": {
    "name": "ipython",
    "version": 3
   },
   "file_extension": ".py",
   "mimetype": "text/x-python",
   "name": "python",
   "nbconvert_exporter": "python",
   "pygments_lexer": "ipython3",
   "version": "3.9.12"
  }
 },
 "nbformat": 4,
 "nbformat_minor": 5
}
