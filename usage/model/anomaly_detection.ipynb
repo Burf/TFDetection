{
 "cells": [
  {
   "cell_type": "markdown",
   "metadata": {},
   "source": [
    "# 0. Import Library"
   ]
  },
  {
   "cell_type": "code",
   "execution_count": 1,
   "metadata": {},
   "outputs": [],
   "source": [
    "import os\n",
    "if not os.path.exists(\"./tfdet\"):\n",
    "    !git clone -q http://github.com/burf/tfdetection.git\n",
    "    !mv ./tfdetection/tfdet ./tfdet\n",
    "    !rm -rf ./tfdetection"
   ]
  },
  {
   "cell_type": "code",
   "execution_count": 2,
   "metadata": {},
   "outputs": [],
   "source": [
    "#ignore warning\n",
    "import warnings, os\n",
    "warnings.filterwarnings(action = \"ignore\")\n",
    "os.environ[\"TF_CPP_MIN_LOG_LEVEL\"] = \"3\"\n",
    "import tensorflow as tf\n",
    "tf.compat.v1.logging.set_verbosity(tf.compat.v1.logging.ERROR)\n",
    "\n",
    "import tfdet"
   ]
  },
  {
   "cell_type": "markdown",
   "metadata": {},
   "source": [
    "# 1. Init Dataset"
   ]
  },
  {
   "cell_type": "code",
   "execution_count": 3,
   "metadata": {},
   "outputs": [],
   "source": [
    "#sample dataset\n",
    "import numpy as np\n",
    "\n",
    "image_shape = [32, 32]\n",
    "sampling_size = 550\n",
    "batch_size = 4\n",
    "\n",
    "def load(x_true):\n",
    "    x_true = np.random.random([*image_shape, 3]).astype(np.float32)\n",
    "    return x_true\n",
    "        \n",
    "val_y = np.random.randint(2, size = (10, 1))\n",
    "dataset = tfdet.dataset.Dataset(np.arange(10), transform = [load])\n",
    "tr_pipe = val_pipe = te_pipe = tfdet.dataset.PipeLoader(dataset, batch_size = batch_size, prefetch = True)"
   ]
  },
  {
   "cell_type": "markdown",
   "metadata": {},
   "source": [
    "# 2. Build Anomaly Detector"
   ]
  },
  {
   "cell_type": "markdown",
   "metadata": {},
   "source": [
    "2-1. Feature-Based"
   ]
  },
  {
   "cell_type": "code",
   "execution_count": 4,
   "metadata": {},
   "outputs": [
    {
     "name": "stdout",
     "output_type": "stream",
     "text": [
      "3/3 [==============================] - 1s 28ms/step\n",
      "3/3 [==============================] - 2s 77ms/step\n"
     ]
    },
    {
     "data": {
      "text/plain": [
       "[(10, 1), (10, 32, 32, 1)]"
      ]
     },
     "execution_count": 4,
     "metadata": {},
     "output_type": "execute_result"
    }
   ],
   "source": [
    "x = tf.keras.layers.Input(shape = [*image_shape, 3])\n",
    "feature = tfdet.model.backbone.wide_resnet50_2(x, weights = \"imagenet_v2\", indices = [0, 1, 2])\n",
    "n_feature = np.sum([np.shape(f)[-1] for f in feature])\n",
    "sampling_index = np.random.choice(np.arange(n_feature), sampling_size, replace = False)\n",
    "out = tfdet.model.detector.padim(feature, sampling_index = sampling_index, memory_reduce = False) #align memory_reduce with train and test\n",
    "model = tf.keras.Model(x, out)\n",
    "\n",
    "extracted_feature = model.predict(tr_pipe, verbose = 1)\n",
    "feature_vector = tfdet.model.train.padim.train(extracted_feature)\n",
    "\n",
    "score, mask = tfdet.model.detector.padim(feature, feature_vector, image_shape = image_shape, sampling_index = sampling_index, memory_reduce = False) #align memory_reduce with train and test\n",
    "model = tf.keras.Model(x, score)\n",
    "score_pred = model.predict(val_pipe, verbose = 1)\n",
    "threshold = tfdet.util.get_threshold(val_y, score_pred)\n",
    "filtered_out = tfdet.model.postprocess.padim.FilterDetection(threshold = threshold)([score, mask])\n",
    "\n",
    "model = tf.keras.Model(x, filtered_out)\n",
    "[p.shape for p in model.predict(te_pipe, verbose = 0)]"
   ]
  },
  {
   "cell_type": "code",
   "execution_count": 5,
   "metadata": {},
   "outputs": [
    {
     "name": "stdout",
     "output_type": "stream",
     "text": [
      "3/3 [==============================] - 1s 25ms/step\n"
     ]
    },
    {
     "name": "stderr",
     "output_type": "stream",
     "text": [
      "greedy sampling top-k center: 100%|██████████████████████████████████████████████████████████████| 1/1 [00:00<?, ?it/s]\n"
     ]
    },
    {
     "name": "stdout",
     "output_type": "stream",
     "text": [
      "3/3 [==============================] - 2s 29ms/step\n"
     ]
    },
    {
     "data": {
      "text/plain": [
       "[(10, 1), (10, 32, 32, 1)]"
      ]
     },
     "execution_count": 5,
     "metadata": {},
     "output_type": "execute_result"
    }
   ],
   "source": [
    "x = tf.keras.layers.Input(shape = [*image_shape, 3])\n",
    "feature = tfdet.model.backbone.wide_resnet50_2(x, weights = \"imagenet_v2\", indices = [1, 2])\n",
    "out = tfdet.model.detector.patch_core(feature)\n",
    "model = tf.keras.Model(x, out)\n",
    "\n",
    "extracted_feature = model.predict(tr_pipe, verbose = 1)\n",
    "feature_vector = tfdet.model.train.patch_core.train(extracted_feature)\n",
    "\n",
    "score, mask = tfdet.model.detector.patch_core(feature, feature_vector, image_shape = image_shape, k = 9)\n",
    "model = tf.keras.Model(x, score)\n",
    "score_pred = model.predict(val_pipe, verbose = 1)\n",
    "threshold = tfdet.util.get_threshold(val_y, score_pred)\n",
    "filtered_out = tfdet.model.postprocess.patch_core.FilterDetection(threshold = threshold)([score, mask])\n",
    "\n",
    "model = tf.keras.Model(x, filtered_out)\n",
    "[p.shape for p in model.predict(te_pipe, verbose = 0)]"
   ]
  },
  {
   "cell_type": "code",
   "execution_count": 6,
   "metadata": {},
   "outputs": [
    {
     "name": "stdout",
     "output_type": "stream",
     "text": [
      "3/3 [==============================] - 2s 44ms/step\n",
      "3/3 [==============================] - 2s 44ms/step\n"
     ]
    },
    {
     "data": {
      "text/plain": [
       "[(10, 1), (10, 32, 32, 1)]"
      ]
     },
     "execution_count": 6,
     "metadata": {},
     "output_type": "execute_result"
    }
   ],
   "source": [
    "x = tf.keras.layers.Input(shape = [*image_shape, 3])\n",
    "feature = tfdet.model.backbone.wide_resnet50_2(x, weights = \"imagenet_v2\", indices = [0, 1, 2, 3])\n",
    "out = tfdet.model.detector.spade(feature)\n",
    "model = tf.keras.Model(x, out)\n",
    "\n",
    "feature_vector = model.predict(tr_pipe, verbose = 1)\n",
    "\n",
    "score, mask = tfdet.model.detector.spade(feature, feature_vector, image_shape = image_shape, k = 50) #align memory_reduce with train in test\n",
    "model = tf.keras.Model(x, score)\n",
    "score_pred = model.predict(val_pipe, verbose = 1)\n",
    "threshold = tfdet.util.get_threshold(val_y, score_pred)\n",
    "filtered_out = tfdet.model.postprocess.spade.FilterDetection(threshold = threshold)([score, mask])\n",
    "\n",
    "model = tf.keras.Model(x, filtered_out)\n",
    "[p.shape for p in model.predict(te_pipe, verbose = 0)]"
   ]
  },
  {
   "cell_type": "code",
   "execution_count": null,
   "metadata": {},
   "outputs": [],
   "source": []
  }
 ],
 "metadata": {
  "kernelspec": {
   "display_name": "Python 3",
   "language": "python",
   "name": "python3"
  },
  "language_info": {
   "codemirror_mode": {
    "name": "ipython",
    "version": 3
   },
   "file_extension": ".py",
   "mimetype": "text/x-python",
   "name": "python",
   "nbconvert_exporter": "python",
   "pygments_lexer": "ipython3",
   "version": "3.8.5"
  }
 },
 "nbformat": 4,
 "nbformat_minor": 5
}
