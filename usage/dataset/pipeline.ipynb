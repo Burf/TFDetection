{
 "cells": [
  {
   "cell_type": "markdown",
   "id": "1a4a78ce",
   "metadata": {},
   "source": [
    "# 0. Import Library"
   ]
  },
  {
   "cell_type": "code",
   "execution_count": 1,
   "id": "576cfc64",
   "metadata": {},
   "outputs": [],
   "source": [
    "import os\n",
    "if not os.path.exists(\"./tfdet\"):\n",
    "    !git clone -q http://github.com/burf/tfdetection.git\n",
    "    !mv ./tfdetection/tfdet ./tfdet\n",
    "    !rm -rf ./tfdetection"
   ]
  },
  {
   "cell_type": "code",
   "execution_count": 2,
   "id": "6dfc8138",
   "metadata": {},
   "outputs": [],
   "source": [
    "#ignore warning\n",
    "import warnings, os\n",
    "warnings.filterwarnings(action = \"ignore\")\n",
    "os.environ[\"TF_CPP_MIN_LOG_LEVEL\"] = \"3\"\n",
    "import tensorflow as tf\n",
    "tf.compat.v1.logging.set_verbosity(tf.compat.v1.logging.ERROR)\n",
    "\n",
    "import tfdet"
   ]
  },
  {
   "cell_type": "markdown",
   "id": "87c1e82d",
   "metadata": {},
   "source": [
    "# 1. Load Dataset"
   ]
  },
  {
   "cell_type": "code",
   "execution_count": 3,
   "id": "8c6375a7",
   "metadata": {},
   "outputs": [
    {
     "name": "stdout",
     "output_type": "stream",
     "text": [
      "balloon/\n",
      "    train/\n",
      "        605521662_a470fef77f_b.jpg\n",
      "        9330497995_4cf0438cb6_k.jpg\n",
      "        5178670692_63a4365c9c_b.jpg\n",
      "        ...\n",
      "    val/\n",
      "        4838031651_3e7b5ea5c7_b.jpg\n",
      "        16335852991_f55de7958d_k.jpg\n",
      "        24631331976_defa3bb61f_k.jpg\n",
      "        ...\n"
     ]
    }
   ],
   "source": [
    "import os\n",
    "path = \"./balloon\"\n",
    "if not os.path.exists(path):\n",
    "    !wget -qq --no-check-certificate http://github.com/matterport/Mask_RCNN/releases/download/v2.1/balloon_dataset.zip\n",
    "    !unzip -qq balloon_dataset.zip\n",
    "print(tfdet.dataset.util.tree_dir(path))"
   ]
  },
  {
   "cell_type": "code",
   "execution_count": 4,
   "id": "bef79608",
   "metadata": {},
   "outputs": [
    {
     "name": "stdout",
     "output_type": "stream",
     "text": [
      "x_true:(), y_true:(1, 1), bbox_true:(1, 4), mask_true:(1, 1536, 2048, 1)\n"
     ]
    }
   ],
   "source": [
    "tr_path = os.path.join(path, \"train/via_region_data.json\")\n",
    "te_path = os.path.join(path, \"val/via_region_data.json\")\n",
    "\n",
    "tr_pipe = tfdet.dataset.balloon.load_pipe(tr_path, mask = True)\n",
    "te_pipe = tfdet.dataset.balloon.load_pipe(te_path, mask = True)\n",
    "\n",
    "label = tfdet.dataset.balloon.LABEL\n",
    "\n",
    "out = next(iter(tr_pipe))\n",
    "image, y_true, bbox_true = out[:3]\n",
    "mask_true = out[3] if 3 < len(out) else None\n",
    "\n",
    "if mask_true is None:\n",
    "    print(\"x_true:{0}, y_true:{1}, bbox_true:{2}\".format(image.shape, y_true.shape, bbox_true.shape))\n",
    "else:\n",
    "    print(\"x_true:{0}, y_true:{1}, bbox_true:{2}, mask_true:{3}\".format(image.shape, y_true.shape, bbox_true.shape, mask_true.shape))"
   ]
  },
  {
   "cell_type": "markdown",
   "id": "b2edddc1",
   "metadata": {},
   "source": [
    "# 2. Default Pipeline"
   ]
  },
  {
   "cell_type": "code",
   "execution_count": 5,
   "id": "fbfd07a3",
   "metadata": {},
   "outputs": [
    {
     "name": "stdout",
     "output_type": "stream",
     "text": [
      "x_true:(4, 512, 512, 3), y_true:(4, 100, 1), bbox_true:(4, 100, 4), mask_true:(4, 100, 512, 512, 1)\n"
     ]
    }
   ],
   "source": [
    "tr_pipe = tfdet.dataset.balloon.load_pipe(tr_path, mask = True)\n",
    "tr_pipe = tfdet.dataset.pipeline.load(tr_pipe)\n",
    "#tr_pipe = tfdet.dataset.pipeline.args2dict(tr_pipe) #for train_model to object detection\n",
    "tr_pipe = tfdet.dataset.pipeline.resize(tr_pipe, image_shape = [512, 512], keep_ratio = True)\n",
    "tr_pipe = tfdet.dataset.pipeline.filter_annotation(tr_pipe, min_scale = 2, min_instance_area = 1)\n",
    "tr_pipe = tfdet.dataset.pipeline.label_encode(tr_pipe, label = label)\n",
    "tr_pipe = tfdet.dataset.pipeline.normalize(tr_pipe, mean = [123.675, 116.28, 103.53], std = [58.395, 57.12, 57.375], bbox_normalize = True)\n",
    "tr_pipe = tfdet.dataset.pipeline.pad(tr_pipe, image_shape = [512, 512], max_pad_size = 100, mode = \"both\")\n",
    "tr_pipe = tfdet.dataset.pipeline.cast(tr_pipe, map = {\"x_true\":tf.float32, \"y_true\":tf.float32, \"bbox_true\":tf.float32, \"mask_true\":tf.float32})\n",
    "tr_pipe = tr_pipe.batch(4).prefetch(1)\n",
    "\n",
    "out = next(iter(tr_pipe))\n",
    "image, y_true, bbox_true = out[:3]\n",
    "mask_true = out[3] if 3 < len(out) else None\n",
    "\n",
    "if mask_true is None:\n",
    "    print(\"x_true:{0}, y_true:{1}, bbox_true:{2}\".format(image.shape, y_true.shape, bbox_true.shape))\n",
    "else:\n",
    "    print(\"x_true:{0}, y_true:{1}, bbox_true:{2}, mask_true:{3}\".format(image.shape, y_true.shape, bbox_true.shape, mask_true.shape))"
   ]
  },
  {
   "cell_type": "markdown",
   "id": "01ed020b",
   "metadata": {},
   "source": [
    "# 3. Augmentation"
   ]
  },
  {
   "cell_type": "markdown",
   "id": "a5b695b8",
   "metadata": {},
   "source": [
    "3-1. Default"
   ]
  },
  {
   "cell_type": "code",
   "execution_count": 6,
   "id": "e5647a79",
   "metadata": {},
   "outputs": [
    {
     "name": "stdout",
     "output_type": "stream",
     "text": [
      "x_true:(4, 512, 512, 3), y_true:(4, 100, 1), bbox_true:(4, 100, 4), mask_true:(4, 100, 512, 512, 1)\n"
     ]
    }
   ],
   "source": [
    "tr_pipe = tfdet.dataset.balloon.load_pipe(tr_path, mask = True)\n",
    "tr_pipe = tfdet.dataset.pipeline.load(tr_pipe)\n",
    "#tr_pipe = tfdet.dataset.pipeline.args2dict(tr_pipe) #for train_model to object detection\n",
    "tr_pipe = tfdet.dataset.pipeline.weak_augmentation(tr_pipe, crop_shape = None, p_flip = 0.5, min_area = 0., min_visibility = 0.) #If crop_shape is shape or ratio, apply random_crop.\n",
    "tr_pipe = tfdet.dataset.pipeline.resize(tr_pipe, image_shape = [512, 512], keep_ratio = True)\n",
    "tr_pipe = tfdet.dataset.pipeline.filter_annotation(tr_pipe, min_scale = 2, min_instance_area = 1)\n",
    "tr_pipe = tfdet.dataset.pipeline.label_encode(tr_pipe, label = label)\n",
    "tr_pipe = tfdet.dataset.pipeline.normalize(tr_pipe, mean = [123.675, 116.28, 103.53], std = [58.395, 57.12, 57.375], bbox_normalize = True)\n",
    "tr_pipe = tfdet.dataset.pipeline.pad(tr_pipe, image_shape = [512, 512], max_pad_size = 100, mode = \"both\")\n",
    "tr_pipe = tfdet.dataset.pipeline.cast(tr_pipe, map = {\"x_true\":tf.float32, \"y_true\":tf.float32, \"bbox_true\":tf.float32, \"mask_true\":tf.float32})\n",
    "tr_pipe = tr_pipe.batch(4).prefetch(1)\n",
    "\n",
    "out = next(iter(tr_pipe))\n",
    "image, y_true, bbox_true = out[:3]\n",
    "mask_true = out[3] if 3 < len(out) else None\n",
    "\n",
    "if mask_true is None:\n",
    "    print(\"x_true:{0}, y_true:{1}, bbox_true:{2}\".format(image.shape, y_true.shape, bbox_true.shape))\n",
    "else:\n",
    "    print(\"x_true:{0}, y_true:{1}, bbox_true:{2}, mask_true:{3}\".format(image.shape, y_true.shape, bbox_true.shape, mask_true.shape))"
   ]
  },
  {
   "cell_type": "markdown",
   "id": "421a137a",
   "metadata": {},
   "source": [
    "3-2. Albumentations"
   ]
  },
  {
   "cell_type": "code",
   "execution_count": 7,
   "id": "a49de63b",
   "metadata": {},
   "outputs": [
    {
     "name": "stdout",
     "output_type": "stream",
     "text": [
      "x_true:(4, 512, 512, 3), y_true:(4, 100, 1), bbox_true:(4, 100, 4), mask_true:(4, 100, 512, 512, 1)\n"
     ]
    }
   ],
   "source": [
    "import albumentations as A\n",
    "import cv2\n",
    "\n",
    "tr_pipe = tfdet.dataset.balloon.load_pipe(tr_path, mask = True)\n",
    "tr_pipe = tfdet.dataset.pipeline.load(tr_pipe)\n",
    "#tr_pipe = tfdet.dataset.pipeline.args2dict(tr_pipe) #for train_model to object detection\n",
    "tr_pipe = tfdet.dataset.pipeline.albumentations(tr_pipe,\n",
    "                                                transform = [A.CLAHE(p = 0.1, clip_limit = 4., tile_grid_size = (8, 8)),\n",
    "                                                             A.RandomBrightnessContrast(p = 0.1, brightness_limit = 0.2, contrast_limit = 0.2),\n",
    "                                                             A.RandomGamma(p = 0.1, gamma_limit = [80, 120]),\n",
    "                                                             A.Blur(p = 0.1),\n",
    "                                                             A.MedianBlur(p = 0.1),\n",
    "                                                             A.ToGray(p = 0.1),\n",
    "                                                             A.RGBShift(p = 0.1, r_shift_limit = 10, g_shift_limit = 10, b_shift_limit = 10),\n",
    "                                                             A.HueSaturationValue(p = 0.1, hue_shift_limit = 10, sat_shift_limit = 40, val_shift_limit = 50),\n",
    "                                                             A.ChannelShuffle(p = 0.1),\n",
    "                                                             #A.ShiftScaleRotate(p = 0.1, rotate_limit = 30, shift_limit = 0.0625, scale_limit = 0.1, interpolation = cv2.INTER_LINEAR, border_mode = cv2.BORDER_CONSTANT),\n",
    "                                                             #A.RandomResizedCrop(p = 0.1, height = 512, width = 512, scale = [0.8, 1.0], ratio = [0.9, 1.11]),\n",
    "                                                             A.ImageCompression(p = 0.1, quality_lower = 75),\n",
    "                                                            ],\n",
    "                                                min_area = 0., min_visibility = 0.)\n",
    "tr_pipe = tfdet.dataset.pipeline.resize(tr_pipe, image_shape = [512, 512], keep_ratio = True)\n",
    "tr_pipe = tfdet.dataset.pipeline.filter_annotation(tr_pipe, min_scale = 2, min_instance_area = 1)\n",
    "tr_pipe = tfdet.dataset.pipeline.label_encode(tr_pipe, label = label)\n",
    "tr_pipe = tfdet.dataset.pipeline.normalize(tr_pipe, mean = [123.675, 116.28, 103.53], std = [58.395, 57.12, 57.375], bbox_normalize = True)\n",
    "tr_pipe = tfdet.dataset.pipeline.pad(tr_pipe, image_shape = [512, 512], max_pad_size = 100, mode = \"both\")\n",
    "tr_pipe = tfdet.dataset.pipeline.cast(tr_pipe, map = {\"x_true\":tf.float32, \"y_true\":tf.float32, \"bbox_true\":tf.float32, \"mask_true\":tf.float32})\n",
    "tr_pipe = tr_pipe.batch(4).prefetch(1)\n",
    "\n",
    "out = next(iter(tr_pipe))\n",
    "image, y_true, bbox_true = out[:3]\n",
    "mask_true = out[3] if 3 < len(out) else None\n",
    "\n",
    "if mask_true is None:\n",
    "    print(\"x_true:{0}, y_true:{1}, bbox_true:{2}\".format(image.shape, y_true.shape, bbox_true.shape))\n",
    "else:\n",
    "    print(\"x_true:{0}, y_true:{1}, bbox_true:{2}, mask_true:{3}\".format(image.shape, y_true.shape, bbox_true.shape, mask_true.shape))"
   ]
  },
  {
   "cell_type": "markdown",
   "id": "8ce09e58",
   "metadata": {},
   "source": [
    "3-3. MMDet"
   ]
  },
  {
   "cell_type": "code",
   "execution_count": 8,
   "id": "b0b6ac06",
   "metadata": {},
   "outputs": [
    {
     "name": "stdout",
     "output_type": "stream",
     "text": [
      "x_true:(4, 512, 512, 3), y_true:(4, 100, 1), bbox_true:(4, 100, 4), mask_true:(4, 100, 512, 512, 1)\n"
     ]
    }
   ],
   "source": [
    "import albumentations as A\n",
    "import cv2\n",
    "\n",
    "tr_pipe = tfdet.dataset.balloon.load_pipe(tr_path, mask = True)\n",
    "tr_pipe = tfdet.dataset.pipeline.load(tr_pipe)\n",
    "#tr_pipe = tfdet.dataset.pipeline.args2dict(tr_pipe) #for train_model to object detection\n",
    "#tr_pipe = tfdet.dataset.pipeline.albumentations(tr_pipe)\n",
    "#tr_pipe = tfdet.dataset.pipeline.mmdet_augmentation(tr_pipe, image_shape = [int(512 * 0.1), int(512 * 2)], crop_shape = [512, 512], resize_mode = \"range\", keep_ratio = True, shape_divisor = 32, p_flip = 0.5)\n",
    "tr_pipe = tfdet.dataset.pipeline.mmdet_augmentation(tr_pipe, image_shape = [512, 512], crop_shape = None, keep_ratio = True, shape_divisor = 32, p_flip = 0.5)\n",
    "tr_pipe = tfdet.dataset.pipeline.filter_annotation(tr_pipe, min_scale = 2, min_instance_area = 1)\n",
    "tr_pipe = tfdet.dataset.pipeline.label_encode(tr_pipe, label = label)\n",
    "tr_pipe = tfdet.dataset.pipeline.normalize(tr_pipe, mean = [123.675, 116.28, 103.53], std = [58.395, 57.12, 57.375], bbox_normalize = True)\n",
    "tr_pipe = tfdet.dataset.pipeline.pad(tr_pipe, image_shape = [512, 512], max_pad_size = 100, mode = \"both\")\n",
    "tr_pipe = tfdet.dataset.pipeline.cast(tr_pipe, map = {\"x_true\":tf.float32, \"y_true\":tf.float32, \"bbox_true\":tf.float32, \"mask_true\":tf.float32})\n",
    "tr_pipe = tr_pipe.batch(4).prefetch(1)\n",
    "\n",
    "out = next(iter(tr_pipe))\n",
    "image, y_true, bbox_true = out[:3]\n",
    "mask_true = out[3] if 3 < len(out) else None\n",
    "\n",
    "if mask_true is None:\n",
    "    print(\"x_true:{0}, y_true:{1}, bbox_true:{2}\".format(image.shape, y_true.shape, bbox_true.shape))\n",
    "else:\n",
    "    print(\"x_true:{0}, y_true:{1}, bbox_true:{2}, mask_true:{3}\".format(image.shape, y_true.shape, bbox_true.shape, mask_true.shape))"
   ]
  },
  {
   "cell_type": "markdown",
   "id": "879f2f45",
   "metadata": {},
   "source": [
    "3-4. Yolo"
   ]
  },
  {
   "cell_type": "code",
   "execution_count": 9,
   "id": "a563817b",
   "metadata": {},
   "outputs": [
    {
     "name": "stdout",
     "output_type": "stream",
     "text": [
      "x_true:(4, 512, 512, 3), y_true:(4, 200, 1), bbox_true:(4, 200, 4), mask_true:(4, 200, 512, 512, 1)\n"
     ]
    }
   ],
   "source": [
    "tr_pipe = tfdet.dataset.balloon.load_pipe(tr_path, mask = True)\n",
    "tr_pipe = tfdet.dataset.pipeline.load(tr_pipe)\n",
    "#tr_pipe = tfdet.dataset.pipeline.args2dict(tr_pipe) #for train_model to object detection\n",
    "tr_pipe = tfdet.dataset.pipeline.resize(tr_pipe, image_shape = [512, 512], keep_ratio = True)\n",
    "#tr_pipe = tfdet.dataset.pipeline.yolo_augmentation(tr_pipe, sample_x_true = tr_pipe.cache(\"./sample_cache\"), image_shape = [512, 512], p_mix_up = 0.15, p_copy_paste = 0.0, scale = 0.5, min_area = 0., min_visibility = 0.)\n",
    "tr_pipe = tfdet.dataset.pipeline.yolo_augmentation(tr_pipe, sample_x_true = tr_pipe, sample_cache = \"./sample_cache\", image_shape = [512, 512], p_mix_up = 0.15, p_copy_paste = 0.0, scale = 0.5, min_area = 0., min_visibility = 0.)\n",
    "tr_pipe = tfdet.dataset.pipeline.filter_annotation(tr_pipe, min_scale = 2, min_instance_area = 1)\n",
    "tr_pipe = tfdet.dataset.pipeline.label_encode(tr_pipe, label = label)\n",
    "tr_pipe = tfdet.dataset.pipeline.normalize(tr_pipe, mean = [123.675, 116.28, 103.53], std = [58.395, 57.12, 57.375], bbox_normalize = True)\n",
    "tr_pipe = tfdet.dataset.pipeline.pad(tr_pipe, image_shape = [512, 512], max_pad_size = 200)\n",
    "tr_pipe = tfdet.dataset.pipeline.cast(tr_pipe, map = {\"x_true\":tf.float32, \"y_true\":tf.float32, \"bbox_true\":tf.float32, \"mask_true\":tf.float32})\n",
    "tr_pipe = tr_pipe.batch(4).prefetch(1)\n",
    "\n",
    "out = next(iter(tr_pipe))\n",
    "image, y_true, bbox_true = out[:3]\n",
    "mask_true = out[3] if 3 < len(out) else None\n",
    "\n",
    "if mask_true is None:\n",
    "    print(\"x_true:{0}, y_true:{1}, bbox_true:{2}\".format(image.shape, y_true.shape, bbox_true.shape))\n",
    "else:\n",
    "    print(\"x_true:{0}, y_true:{1}, bbox_true:{2}, mask_true:{3}\".format(image.shape, y_true.shape, bbox_true.shape, mask_true.shape))\n",
    "    \n",
    "#remove cahce after train\n",
    "import os\n",
    "for filename in os.listdir(\"./\"):\n",
    "    name, ext = os.path.splitext(filename)\n",
    "    if name in [\"sample_cache\"]:# and (ext == \".index\" or \".data\" in ext):\n",
    "        os.remove(filename)"
   ]
  },
  {
   "cell_type": "markdown",
   "id": "c34780bd",
   "metadata": {},
   "source": [
    "# 4. Test Time Augmenatation(TTA)"
   ]
  },
  {
   "cell_type": "code",
   "execution_count": 10,
   "id": "e07d497e",
   "metadata": {},
   "outputs": [
    {
     "name": "stdout",
     "output_type": "stream",
     "text": [
      "x_true:(4, 512, 512, 3), y_true:(4, 100, 1), bbox_true:(4, 100, 4), mask_true:(4, 100, 512, 512, 1)\n",
      "x_true:(4, 512, 512, 3), y_true:(4, 100, 1), bbox_true:(4, 100, 4), mask_true:(4, 100, 512, 512, 1)\n",
      "x_true:(4, 512, 512, 3), y_true:(4, 100, 1), bbox_true:(4, 100, 4), mask_true:(4, 100, 512, 512, 1)\n",
      "x_true:(1, 512, 512, 3), y_true:(1, 100, 1), bbox_true:(1, 100, 4), mask_true:(1, 100, 512, 512, 1)\n",
      "x_true:(4, 512, 512, 3), y_true:(4, 100, 1), bbox_true:(4, 100, 4), mask_true:(4, 100, 512, 512, 1)\n",
      "x_true:(4, 512, 512, 3), y_true:(4, 100, 1), bbox_true:(4, 100, 4), mask_true:(4, 100, 512, 512, 1)\n",
      "x_true:(4, 512, 512, 3), y_true:(4, 100, 1), bbox_true:(4, 100, 4), mask_true:(4, 100, 512, 512, 1)\n",
      "x_true:(1, 512, 512, 3), y_true:(1, 100, 1), bbox_true:(1, 100, 4), mask_true:(1, 100, 512, 512, 1)\n",
      "x_true:(4, 1024, 1024, 3), y_true:(4, 100, 1), bbox_true:(4, 100, 4), mask_true:(4, 100, 1024, 1024, 1)\n",
      "x_true:(4, 1024, 1024, 3), y_true:(4, 100, 1), bbox_true:(4, 100, 4), mask_true:(4, 100, 1024, 1024, 1)\n",
      "x_true:(4, 1024, 1024, 3), y_true:(4, 100, 1), bbox_true:(4, 100, 4), mask_true:(4, 100, 1024, 1024, 1)\n",
      "x_true:(1, 1024, 1024, 3), y_true:(1, 100, 1), bbox_true:(1, 100, 4), mask_true:(1, 100, 1024, 1024, 1)\n",
      "x_true:(4, 1024, 1024, 3), y_true:(4, 100, 1), bbox_true:(4, 100, 4), mask_true:(4, 100, 1024, 1024, 1)\n",
      "x_true:(4, 1024, 1024, 3), y_true:(4, 100, 1), bbox_true:(4, 100, 4), mask_true:(4, 100, 1024, 1024, 1)\n",
      "x_true:(4, 1024, 1024, 3), y_true:(4, 100, 1), bbox_true:(4, 100, 4), mask_true:(4, 100, 1024, 1024, 1)\n",
      "x_true:(1, 1024, 1024, 3), y_true:(1, 100, 1), bbox_true:(1, 100, 4), mask_true:(1, 100, 1024, 1024, 1)\n"
     ]
    }
   ],
   "source": [
    "te_pipe = tfdet.dataset.balloon.load_pipe(te_path, mask = True)\n",
    "te_pipe = tfdet.dataset.pipeline.load(te_pipe)\n",
    "#te_pipe = tfdet.dataset.pipeline.args2dict(te_pipe) #for train_model to object detection\n",
    "te_pipe = tfdet.dataset.pipeline.filter_annotation(te_pipe, min_scale = 2, min_instance_area = 1)\n",
    "te_pipe = tfdet.dataset.pipeline.label_encode(te_pipe, label = label)\n",
    "te_pipe = tfdet.dataset.pipeline.normalize(te_pipe, mean = [123.675, 116.28, 103.53], std = [58.395, 57.12, 57.375], bbox_normalize = True)\n",
    "te_pipe = tfdet.dataset.pipeline.cast(te_pipe, map = {\"x_true\":tf.float32, \"y_true\":tf.float32, \"bbox_true\":tf.float32, \"mask_true\":tf.float32})\n",
    "te_pipe = tfdet.dataset.pipeline.multi_scale_flip(te_pipe, image_shape = [[512, 512], [1024, 1024]], keep_ratio = True, flip_mode = [\"horizontal\"], max_pad_size = 100, batch_size = 4, prefetch = True)\n",
    "\n",
    "iter_data = iter(te_pipe)\n",
    "for out in iter_data:\n",
    "    image, y_true, bbox_true = out[:3]\n",
    "    mask_true = out[3] if 3 < len(out) else None\n",
    "\n",
    "    if mask_true is None:\n",
    "        print(\"x_true:{0}, y_true:{1}, bbox_true:{2}\".format(image.shape, y_true.shape, bbox_true.shape))\n",
    "    else:\n",
    "        print(\"x_true:{0}, y_true:{1}, bbox_true:{2}, mask_true:{3}\".format(image.shape, y_true.shape, bbox_true.shape, mask_true.shape))"
   ]
  },
  {
   "cell_type": "code",
   "execution_count": null,
   "id": "89c44dec",
   "metadata": {},
   "outputs": [],
   "source": []
  }
 ],
 "metadata": {
  "kernelspec": {
   "display_name": "Python 3 (ipykernel)",
   "language": "python",
   "name": "python3"
  },
  "language_info": {
   "codemirror_mode": {
    "name": "ipython",
    "version": 3
   },
   "file_extension": ".py",
   "mimetype": "text/x-python",
   "name": "python",
   "nbconvert_exporter": "python",
   "pygments_lexer": "ipython3",
   "version": "3.9.12"
  }
 },
 "nbformat": 4,
 "nbformat_minor": 5
}
