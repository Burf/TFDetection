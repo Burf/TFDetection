{
 "cells": [
  {
   "cell_type": "markdown",
   "id": "d6d386ef",
   "metadata": {},
   "source": [
    "# 0. Import Library"
   ]
  },
  {
   "cell_type": "code",
   "execution_count": 1,
   "id": "9f11f5ab",
   "metadata": {},
   "outputs": [],
   "source": [
    "import os\n",
    "if not os.path.exists(\"./tfdet\"):\n",
    "    !git clone -q http://github.com/burf/tfdetection.git\n",
    "    !mv ./tfdetection/tfdet ./tfdet\n",
    "    !rm -rf ./tfdetection"
   ]
  },
  {
   "cell_type": "code",
   "execution_count": 2,
   "id": "672d513a",
   "metadata": {},
   "outputs": [],
   "source": [
    "#ignore warning\n",
    "import warnings, os\n",
    "warnings.filterwarnings(action = \"ignore\")\n",
    "os.environ[\"TF_CPP_MIN_LOG_LEVEL\"] = \"3\"\n",
    "import tensorflow as tf\n",
    "tf.compat.v1.logging.set_verbosity(tf.compat.v1.logging.ERROR)\n",
    "\n",
    "import tfdet"
   ]
  },
  {
   "cell_type": "markdown",
   "id": "b57b35e8",
   "metadata": {},
   "source": [
    "# 1. Init Dataset"
   ]
  },
  {
   "cell_type": "code",
   "execution_count": 3,
   "id": "b7b06b3f",
   "metadata": {},
   "outputs": [],
   "source": [
    "#sample dataset\n",
    "import numpy as np\n",
    "\n",
    "image_shape = [512, 512]\n",
    "n_class = 21 #background + 20 label\n",
    "total_size = 100\n",
    "\n",
    "tr_x = [\"a.jpg\" for _ in range(total_size)]\n",
    "tr_y = [\"a.xml\" for _ in range(total_size)]"
   ]
  },
  {
   "cell_type": "markdown",
   "id": "52f340a3",
   "metadata": {},
   "source": [
    "# 2. Load Dataset & Apply Transform"
   ]
  },
  {
   "cell_type": "code",
   "execution_count": 4,
   "id": "4f66e39f",
   "metadata": {},
   "outputs": [
    {
     "name": "stdout",
     "output_type": "stream",
     "text": [
      "x_true:(512, 512, 3), y_true:(2, 1), bbox_true:(2, 4), mask_true:(2, 512, 512, 1)\n"
     ]
    }
   ],
   "source": [
    "def load(x_true, y_true, mask = True):\n",
    "    max_pad_size = np.random.randint(10) + 1\n",
    "    \n",
    "    image = np.random.random([*image_shape, 3]).astype(np.float32)\n",
    "    y_true = np.random.randint(n_class, size = [max_pad_size, 1]).astype(np.int32)\n",
    "    bbox_true = np.array([tfdet.core.bbox.random_bbox(image_shape = image_shape) for _ in range(max_pad_size)], dtype = np.int32)\n",
    "    result = [image, y_true, bbox_true]\n",
    "    if mask:\n",
    "        mask_true = np.random.randint(2, size = (max_pad_size, *image_shape, 1)).astype(np.uint8)\n",
    "        result = [image, y_true, bbox_true, mask_true]\n",
    "    return tuple(result)\n",
    "        \n",
    "tr_dataset = tfdet.dataset.Dataset(tr_x, tr_y, transform = [{\"name\":load, \"mask\":True}, #or load,\n",
    "                                                            {\"name\":\"resize\", \"image_shape\":image_shape},\n",
    "                                                            {\"name\":\"pad\", \"image_shape\":image_shape},\n",
    "                                                            {\"name\":\"filter_annotation\"},\n",
    "                                                            #{\"name\":\"label_encode\", \"label\":None},\n",
    "                                                            {\"name\":\"normalize\", \"mean\":[123.675, 116.28, 103.53], \"std\":[58.395, 57.12, 57.375]}])\n",
    "out = tr_dataset[0] #or next(iter(tr_dataset))\n",
    "x_true, y_true, bbox_true = out[:3]\n",
    "mask_true = out[3] if 3 < len(out) else None\n",
    "\n",
    "if mask_true is None:\n",
    "    print(\"x_true:{0}, y_true:{1}, bbox_true:{2}\".format(x_true.shape, y_true.shape, bbox_true.shape))\n",
    "else:\n",
    "    print(\"x_true:{0}, y_true:{1}, bbox_true:{2}, mask_true:{3}\".format(x_true.shape, y_true.shape, bbox_true.shape, mask_true.shape))"
   ]
  },
  {
   "cell_type": "markdown",
   "id": "5a1c6ab0",
   "metadata": {},
   "source": [
    "# 3. Build Pipeline"
   ]
  },
  {
   "cell_type": "code",
   "execution_count": 5,
   "id": "fa87a9a5",
   "metadata": {},
   "outputs": [
    {
     "name": "stdout",
     "output_type": "stream",
     "text": [
      "x_true:(4, 512, 512, 3), y_true:(4, 10, 1), bbox_true:(4, 10, 4), mask_true:(4, 10, 512, 512, 1)\n"
     ]
    }
   ],
   "source": [
    "tr_pipe = tfdet.dataset.PipeLoader(tr_dataset)\n",
    "#tr_pipe = tfdet.dataset.pipeline.args2dict(tr_pipe) #for train_model to object detection\n",
    "#tr_pipe = tfdet.dataset.pipeline.collect(tr_pipe) #filtered item by key\n",
    "tr_pipe = tfdet.dataset.pipeline.key_map(tr_pipe, batch_size = 4, prefetch = True)\n",
    "\n",
    "out = next(iter(tr_pipe))\n",
    "image, y_true, bbox_true = out[:3]\n",
    "mask_true = out[3] if 3 < len(out) else None\n",
    "\n",
    "if mask_true is None:\n",
    "    print(\"x_true:{0}, y_true:{1}, bbox_true:{2}\".format(image.shape, y_true.shape, bbox_true.shape))\n",
    "else:\n",
    "    print(\"x_true:{0}, y_true:{1}, bbox_true:{2}, mask_true:{3}\".format(image.shape, y_true.shape, bbox_true.shape, mask_true.shape))"
   ]
  },
  {
   "cell_type": "code",
   "execution_count": null,
   "id": "da6c0d43",
   "metadata": {},
   "outputs": [],
   "source": []
  }
 ],
 "metadata": {
  "kernelspec": {
   "display_name": "Python 3 (ipykernel)",
   "language": "python",
   "name": "python3"
  },
  "language_info": {
   "codemirror_mode": {
    "name": "ipython",
    "version": 3
   },
   "file_extension": ".py",
   "mimetype": "text/x-python",
   "name": "python",
   "nbconvert_exporter": "python",
   "pygments_lexer": "ipython3",
   "version": "3.9.13"
  }
 },
 "nbformat": 4,
 "nbformat_minor": 5
}
