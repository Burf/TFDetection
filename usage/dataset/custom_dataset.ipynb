{
 "cells": [
  {
   "cell_type": "markdown",
   "id": "2886f976",
   "metadata": {},
   "source": [
    "# 0. Import Library"
   ]
  },
  {
   "cell_type": "code",
   "execution_count": 1,
   "id": "07a705d3",
   "metadata": {},
   "outputs": [],
   "source": [
    "import os\n",
    "if not os.path.exists(\"./tfdet\"):\n",
    "    !git clone -q http://github.com/burf/tfdetection.git\n",
    "    !mv ./tfdetection/tfdet ./tfdet\n",
    "    !rm -rf ./tfdetection"
   ]
  },
  {
   "cell_type": "code",
   "execution_count": 2,
   "id": "ef88e1ef",
   "metadata": {},
   "outputs": [],
   "source": [
    "#ignore warning\n",
    "import warnings, os\n",
    "warnings.filterwarnings(action = \"ignore\")\n",
    "os.environ[\"TF_CPP_MIN_LOG_LEVEL\"] = \"3\"\n",
    "import tensorflow as tf\n",
    "tf.compat.v1.logging.set_verbosity(tf.compat.v1.logging.ERROR)\n",
    "\n",
    "import tfdet"
   ]
  },
  {
   "cell_type": "markdown",
   "id": "ca3e1f96",
   "metadata": {},
   "source": [
    "# 1. Init Dataset"
   ]
  },
  {
   "cell_type": "code",
   "execution_count": 3,
   "id": "0f51d255",
   "metadata": {},
   "outputs": [],
   "source": [
    "#sample dataset\n",
    "import numpy as np\n",
    "\n",
    "image_shape = [512, 512]\n",
    "n_class = 21 #background + 20 label\n",
    "mask = True\n",
    "max_pad_size = 100\n",
    "total_data_size = 100\n",
    "\n",
    "tr_x = [\"a.jpg\" for _ in range(total_data_size)]\n",
    "tr_y = [\"a.xml\" for _ in range(total_data_size)]"
   ]
  },
  {
   "cell_type": "markdown",
   "id": "364f2b0d",
   "metadata": {},
   "source": [
    "# 2. Pre-load Generator"
   ]
  },
  {
   "cell_type": "code",
   "execution_count": 4,
   "id": "f68b7c41",
   "metadata": {},
   "outputs": [],
   "source": [
    "def load(*args, **kwargs):\n",
    "    image = np.random.random([*image_shape, 3]).astype(np.float32)\n",
    "    y_true = np.random.randint(n_class, size = [max_pad_size, 1])\n",
    "    bbox_true = np.array([tfdet.core.bbox.random_bbox(image_shape = image_shape) for _ in range(max_pad_size)])\n",
    "    result = [image, y_true, bbox_true]\n",
    "    if mask:\n",
    "        mask_true = np.random.random((max_pad_size, *image_shape, 1)).astype(np.float32)\n",
    "        result = [image, y_true, bbox_true, mask_true]\n",
    "    return tuple(result)\n",
    "\n",
    "def generator():\n",
    "    for x, y in zip(tr_x, tr_y):\n",
    "        yield load(x, y)\n",
    "        \n",
    "dtype = (tf.float32, tf.int32, tf.int32, tf.float32) if mask else (tf.float32, tf.int32, tf.int32)\n",
    "tr_pipe = tf.data.Dataset.from_generator(generator, dtype)"
   ]
  },
  {
   "cell_type": "code",
   "execution_count": 5,
   "id": "23eb6d6c",
   "metadata": {},
   "outputs": [],
   "source": [
    "#tr_pipe = tfdet.dataset.pipeline.args2dict(tr_pipe) #for train_model to object detection\n",
    "tr_pipe = tfdet.dataset.pipeline.resize(tr_pipe, image_shape = image_shape, keep_ratio = True)\n",
    "tr_pipe = tfdet.dataset.pipeline.filter_annotation(tr_pipe, min_scale = 2, min_instance_area = 1)\n",
    "#tr_pipe = tfdet.dataset.pipeline.label_encode(tr_pipe)\n",
    "tr_pipe = tfdet.dataset.pipeline.normalize(tr_pipe, mean = [123.675, 116.28, 103.53], std = [58.395, 57.12, 57.375], bbox_normalize = True)\n",
    "tr_pipe = tfdet.dataset.pipeline.pad(tr_pipe, image_shape = image_shape, max_pad_size = 100, mode = \"both\")\n",
    "tr_pipe = tfdet.dataset.pipeline.cast(tr_pipe, map = {\"x_true\":tf.float32, \"y_true\":tf.float32, \"bbox_true\":tf.float32, \"mask_true\":tf.float32})\n",
    "tr_pipe = tr_pipe.batch(4).prefetch(1)"
   ]
  },
  {
   "cell_type": "code",
   "execution_count": 6,
   "id": "f864e067",
   "metadata": {},
   "outputs": [
    {
     "name": "stdout",
     "output_type": "stream",
     "text": [
      "x_true:(4, 512, 512, 3), y_true:(4, 100, 1), bbox_true:(4, 100, 4), mask_true:(4, 100, 512, 512, 1)\n"
     ]
    }
   ],
   "source": [
    "out = next(iter(tr_pipe))\n",
    "image, y_true, bbox_true = out[:3]\n",
    "mask_true = out[3] if 3 < len(out) else None\n",
    "\n",
    "if mask_true is None:\n",
    "    print(\"x_true:{0}, y_true:{1}, bbox_true:{2}\".format(image.shape, y_true.shape, bbox_true.shape))\n",
    "else:\n",
    "    print(\"x_true:{0}, y_true:{1}, bbox_true:{2}, mask_true:{3}\".format(image.shape, y_true.shape, bbox_true.shape, mask_true.shape))"
   ]
  },
  {
   "cell_type": "markdown",
   "id": "2f2418c7",
   "metadata": {},
   "source": [
    "# 3. Post-load Generator"
   ]
  },
  {
   "cell_type": "code",
   "execution_count": 7,
   "id": "32718f44",
   "metadata": {},
   "outputs": [],
   "source": [
    "def load_image(*args, **kwargs):\n",
    "    image = np.random.random([*image_shape, 3]).astype(np.float32)\n",
    "    return image\n",
    "\n",
    "def load_anno(*args, **kwargs):\n",
    "    y_true = np.random.randint(n_class, size = [max_pad_size, 1])\n",
    "    bbox_true = np.array([tfdet.core.bbox.random_bbox(image_shape = image_shape) for _ in range(max_pad_size)])\n",
    "    result = [y_true, bbox_true]\n",
    "    if mask:\n",
    "        mask_true = np.random.random((max_pad_size, *image_shape, 1)).astype(np.float32)\n",
    "        result = [y_true, bbox_true, mask_true]\n",
    "    return tuple(result)\n",
    "\n",
    "def generator():\n",
    "    for x, y in zip(tr_x, tr_y):\n",
    "        yield x, y\n",
    "        \n",
    "dtype = (tf.string, tf.string)\n",
    "tr_pipe = tf.data.Dataset.from_generator(generator, dtype)\n",
    "tr_pipe = tfdet.dataset.pipeline.load(tr_pipe, load_func = load_image, anno_func = load_anno) #post load"
   ]
  },
  {
   "cell_type": "code",
   "execution_count": 8,
   "id": "7bc031ed",
   "metadata": {},
   "outputs": [],
   "source": [
    "#tr_pipe = tfdet.dataset.pipeline.args2dict(tr_pipe) #for train_model to object detection\n",
    "tr_pipe = tfdet.dataset.pipeline.resize(tr_pipe, image_shape = image_shape, keep_ratio = True)\n",
    "tr_pipe = tfdet.dataset.pipeline.filter_annotation(tr_pipe, min_scale = 2, min_instance_area = 1)\n",
    "#tr_pipe = tfdet.dataset.pipeline.label_encode(tr_pipe)\n",
    "tr_pipe = tfdet.dataset.pipeline.normalize(tr_pipe, mean = [123.675, 116.28, 103.53], std = [58.395, 57.12, 57.375], bbox_normalize = True)\n",
    "tr_pipe = tfdet.dataset.pipeline.pad(tr_pipe, image_shape = image_shape, max_pad_size = 100, mode = \"both\")\n",
    "tr_pipe = tfdet.dataset.pipeline.cast(tr_pipe, map = {\"x_true\":tf.float32, \"y_true\":tf.float32, \"bbox_true\":tf.float32, \"mask_true\":tf.float32})\n",
    "tr_pipe = tr_pipe.batch(4).prefetch(1)"
   ]
  },
  {
   "cell_type": "code",
   "execution_count": 9,
   "id": "fd05bddd",
   "metadata": {},
   "outputs": [
    {
     "name": "stdout",
     "output_type": "stream",
     "text": [
      "x_true:(4, 512, 512, 3), y_true:(4, 100, 1), bbox_true:(4, 100, 4), mask_true:(4, 100, 512, 512, 1)\n"
     ]
    }
   ],
   "source": [
    "out = next(iter(tr_pipe))\n",
    "image, y_true, bbox_true = out[:3]\n",
    "mask_true = out[3] if 3 < len(out) else None\n",
    "\n",
    "if mask_true is None:\n",
    "    print(\"x_true:{0}, y_true:{1}, bbox_true:{2}\".format(image.shape, y_true.shape, bbox_true.shape))\n",
    "else:\n",
    "    print(\"x_true:{0}, y_true:{1}, bbox_true:{2}, mask_true:{3}\".format(image.shape, y_true.shape, bbox_true.shape, mask_true.shape))"
   ]
  },
  {
   "cell_type": "markdown",
   "id": "13698ee1",
   "metadata": {},
   "source": [
    "# 4. List"
   ]
  },
  {
   "cell_type": "code",
   "execution_count": 10,
   "id": "4695c588",
   "metadata": {},
   "outputs": [],
   "source": [
    "def load_image(*args, **kwargs):\n",
    "    image = np.random.random([*image_shape, 3]).astype(np.float32)\n",
    "    return image\n",
    "\n",
    "def load_anno(*args, **kwargs):\n",
    "    y_true = np.random.randint(n_class, size = [max_pad_size, 1])\n",
    "    bbox_true = np.array([tfdet.core.bbox.random_bbox(image_shape = image_shape) for _ in range(max_pad_size)])\n",
    "    result = [y_true, bbox_true]\n",
    "    if mask:\n",
    "        mask_true = np.random.random((max_pad_size, *image_shape, 1)).astype(np.float32)\n",
    "        result = [y_true, bbox_true, mask_true]\n",
    "    return tuple(result)\n",
    "\n",
    "tr_pipe = tfdet.dataset.pipeline.load(tr_x, y_true = tr_y, load_func = load_image, anno_func = load_anno) #post load"
   ]
  },
  {
   "cell_type": "code",
   "execution_count": 11,
   "id": "c1882e58",
   "metadata": {},
   "outputs": [],
   "source": [
    "#tr_pipe = tfdet.dataset.pipeline.args2dict(tr_pipe) #for train_model to object detection\n",
    "tr_pipe = tfdet.dataset.pipeline.resize(tr_pipe, image_shape = image_shape, keep_ratio = True)\n",
    "tr_pipe = tfdet.dataset.pipeline.filter_annotation(tr_pipe, min_scale = 2, min_instance_area = 1)\n",
    "#tr_pipe = tfdet.dataset.pipeline.label_encode(tr_pipe)\n",
    "tr_pipe = tfdet.dataset.pipeline.normalize(tr_pipe, mean = [123.675, 116.28, 103.53], std = [58.395, 57.12, 57.375], bbox_normalize = True)\n",
    "tr_pipe = tfdet.dataset.pipeline.pad(tr_pipe, image_shape = image_shape, max_pad_size = 100, mode = \"both\")\n",
    "tr_pipe = tfdet.dataset.pipeline.cast(tr_pipe, map = {\"x_true\":tf.float32, \"y_true\":tf.float32, \"bbox_true\":tf.float32, \"mask_true\":tf.float32})\n",
    "tr_pipe = tr_pipe.batch(4).prefetch(1)"
   ]
  },
  {
   "cell_type": "code",
   "execution_count": 12,
   "id": "130fae8f",
   "metadata": {},
   "outputs": [
    {
     "name": "stdout",
     "output_type": "stream",
     "text": [
      "x_true:(4, 512, 512, 3), y_true:(4, 100, 1), bbox_true:(4, 100, 4), mask_true:(4, 100, 512, 512, 1)\n"
     ]
    }
   ],
   "source": [
    "out = next(iter(tr_pipe))\n",
    "image, y_true, bbox_true = out[:3]\n",
    "mask_true = out[3] if 3 < len(out) else None\n",
    "\n",
    "if mask_true is None:\n",
    "    print(\"x_true:{0}, y_true:{1}, bbox_true:{2}\".format(image.shape, y_true.shape, bbox_true.shape))\n",
    "else:\n",
    "    print(\"x_true:{0}, y_true:{1}, bbox_true:{2}, mask_true:{3}\".format(image.shape, y_true.shape, bbox_true.shape, mask_true.shape))"
   ]
  },
  {
   "cell_type": "code",
   "execution_count": null,
   "id": "ecb1a9d4",
   "metadata": {},
   "outputs": [],
   "source": []
  }
 ],
 "metadata": {
  "kernelspec": {
   "display_name": "Python 3 (ipykernel)",
   "language": "python",
   "name": "python3"
  },
  "language_info": {
   "codemirror_mode": {
    "name": "ipython",
    "version": 3
   },
   "file_extension": ".py",
   "mimetype": "text/x-python",
   "name": "python",
   "nbconvert_exporter": "python",
   "pygments_lexer": "ipython3",
   "version": "3.9.12"
  }
 },
 "nbformat": 4,
 "nbformat_minor": 5
}
