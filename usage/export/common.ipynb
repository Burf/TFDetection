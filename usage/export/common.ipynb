{
 "cells": [
  {
   "cell_type": "markdown",
   "id": "eb2ed3f6",
   "metadata": {
    "id": "7a1352a5"
   },
   "source": [
    "# 0. Import Library"
   ]
  },
  {
   "cell_type": "code",
   "execution_count": 1,
   "id": "d205e8fa",
   "metadata": {
    "executionInfo": {
     "elapsed": 265,
     "status": "ok",
     "timestamp": 1667271979519,
     "user": {
      "displayName": "김형진",
      "userId": "05530574334109307920"
     },
     "user_tz": -540
    },
    "id": "8b9c74d8"
   },
   "outputs": [],
   "source": [
    "import os\n",
    "if not os.path.exists(\"./tfdet\"):\n",
    "    !git clone -q http://github.com/burf/tfdetection.git\n",
    "    !mv ./tfdetection/tfdet ./tfdet\n",
    "    !rm -rf ./tfdetection"
   ]
  },
  {
   "cell_type": "code",
   "execution_count": 2,
   "id": "b2de7347",
   "metadata": {
    "executionInfo": {
     "elapsed": 5695,
     "status": "ok",
     "timestamp": 1667271985622,
     "user": {
      "displayName": "김형진",
      "userId": "05530574334109307920"
     },
     "user_tz": -540
    },
    "id": "b63ddbc4"
   },
   "outputs": [],
   "source": [
    "#ignore warning\n",
    "import warnings, os\n",
    "warnings.filterwarnings(action = \"ignore\")\n",
    "os.environ[\"TF_CPP_MIN_LOG_LEVEL\"] = \"3\"\n",
    "import tensorflow as tf\n",
    "tf.compat.v1.logging.set_verbosity(tf.compat.v1.logging.ERROR)\n",
    "\n",
    "import tfdet"
   ]
  },
  {
   "cell_type": "markdown",
   "id": "c4a768b2",
   "metadata": {
    "id": "251d46b2"
   },
   "source": [
    "# 1. Build Detector"
   ]
  },
  {
   "cell_type": "code",
   "execution_count": 3,
   "id": "bad17379",
   "metadata": {
    "executionInfo": {
     "elapsed": 15,
     "status": "ok",
     "timestamp": 1667271985623,
     "user": {
      "displayName": "김형진",
      "userId": "05530574334109307920"
     },
     "user_tz": -540
    },
    "id": "b32a527b"
   },
   "outputs": [],
   "source": [
    "import numpy as np\n",
    "\n",
    "image_shape = [256, 256]\n",
    "n_class = 21\n",
    "batch_size = 1\n",
    "\n",
    "sample_data = np.random.random([batch_size, *image_shape, 3]).astype(np.float32)"
   ]
  },
  {
   "cell_type": "code",
   "execution_count": 4,
   "id": "def6914b",
   "metadata": {
    "colab": {
     "base_uri": "https://localhost:8080/"
    },
    "executionInfo": {
     "elapsed": 8916,
     "status": "ok",
     "timestamp": 1667271994525,
     "user": {
      "displayName": "김형진",
      "userId": "05530574334109307920"
     },
     "user_tz": -540
    },
    "id": "d616af81",
    "outputId": "098ea52a-2cbf-417e-9544-b4b32ee94961"
   },
   "outputs": [
    {
     "data": {
      "text/plain": [
       "(1, 256, 256, 21)"
      ]
     },
     "execution_count": 4,
     "metadata": {},
     "output_type": "execute_result"
    }
   ],
   "source": [
    "save_path = \"./model.h5\"\n",
    "\n",
    "x = tf.keras.layers.Input(shape = [*image_shape, 3], batch_size = batch_size) #init batch_size for tensorrt\n",
    "feature = tfdet.model.backbone.resnet50(x, weights = None)\n",
    "\n",
    "out = tfdet.model.detector.upernet(feature, n_class = n_class)\n",
    "out = tf.keras.layers.UpSampling2D((4, 4))(out)\n",
    "model = tf.keras.Model(x, out)\n",
    "try:\n",
    "    model.load_weights(save_path) #load weight\n",
    "except:\n",
    "    pass\n",
    "\n",
    "model.predict(sample_data, verbose = 0).shape"
   ]
  },
  {
   "cell_type": "markdown",
   "id": "94555284",
   "metadata": {
    "id": "ec2f9d0d"
   },
   "source": [
    "# 2. TF2TF-Lite"
   ]
  },
  {
   "cell_type": "markdown",
   "id": "f62ef3db",
   "metadata": {
    "id": "c8ae30e9"
   },
   "source": [
    "2-1. Convert"
   ]
  },
  {
   "cell_type": "code",
   "execution_count": 5,
   "id": "ece0268f",
   "metadata": {
    "colab": {
     "base_uri": "https://localhost:8080/",
     "height": 73
    },
    "executionInfo": {
     "elapsed": 46319,
     "status": "ok",
     "timestamp": 1667272040841,
     "user": {
      "displayName": "김형진",
      "userId": "05530574334109307920"
     },
     "user_tz": -540
    },
    "id": "69d0e945",
    "outputId": "808d4b5a-1471-45b8-fb9b-16ca7506b392"
   },
   "outputs": [
    {
     "name": "stderr",
     "output_type": "stream",
     "text": [
      "WARNING:absl:Found untraced functions such as _jit_compiled_convolution_op, _jit_compiled_convolution_op, _jit_compiled_convolution_op, _jit_compiled_convolution_op, _jit_compiled_convolution_op while saving (showing 5 of 84). These functions will not be directly callable after loading.\n"
     ]
    },
    {
     "data": {
      "application/vnd.google.colaboratory.intrinsic+json": {
       "type": "string"
      },
      "text/plain": [
       "'./model.tflite'"
      ]
     },
     "execution_count": 5,
     "metadata": {},
     "output_type": "execute_result"
    }
   ],
   "source": [
    "save_path = \"./model.tflite\"\n",
    "tfdet.export.tf2lite(model, save_path, dtype = tf.float32)"
   ]
  },
  {
   "cell_type": "markdown",
   "id": "94e84a43",
   "metadata": {
    "id": "1366de75"
   },
   "source": [
    "2-2. Load"
   ]
  },
  {
   "cell_type": "code",
   "execution_count": 6,
   "id": "f4b7a918",
   "metadata": {
    "colab": {
     "base_uri": "https://localhost:8080/"
    },
    "executionInfo": {
     "elapsed": 4864,
     "status": "ok",
     "timestamp": 1667272045702,
     "user": {
      "displayName": "김형진",
      "userId": "05530574334109307920"
     },
     "user_tz": -540
    },
    "id": "e26564a8",
    "outputId": "b9b2ce70-5ff0-414d-f244-ab3db64ad500"
   },
   "outputs": [
    {
     "data": {
      "text/plain": [
       "(1, 256, 256, 3)"
      ]
     },
     "execution_count": 6,
     "metadata": {},
     "output_type": "execute_result"
    }
   ],
   "source": [
    "convert_model = tfdet.export.load_tflite(save_path)\n",
    "pred = convert_model(sample_data)\n",
    "del convert_model\n",
    "pred.shape"
   ]
  },
  {
   "cell_type": "markdown",
   "id": "59f72bdb",
   "metadata": {
    "id": "8c59e5e3"
   },
   "source": [
    "# 3. TF2ONNX"
   ]
  },
  {
   "cell_type": "markdown",
   "id": "c6423584",
   "metadata": {
    "id": "9781a933"
   },
   "source": [
    "3-1. Convert"
   ]
  },
  {
   "cell_type": "code",
   "execution_count": 7,
   "id": "28e6972f",
   "metadata": {
    "colab": {
     "base_uri": "https://localhost:8080/",
     "height": 35
    },
    "executionInfo": {
     "elapsed": 39737,
     "status": "ok",
     "timestamp": 1667272085436,
     "user": {
      "displayName": "김형진",
      "userId": "05530574334109307920"
     },
     "user_tz": -540
    },
    "id": "a8353ea6",
    "outputId": "a3894664-3517-4773-ee49-e151ea344d86"
   },
   "outputs": [
    {
     "data": {
      "application/vnd.google.colaboratory.intrinsic+json": {
       "type": "string"
      },
      "text/plain": [
       "'./model.onnx'"
      ]
     },
     "execution_count": 7,
     "metadata": {},
     "output_type": "execute_result"
    }
   ],
   "source": [
    "save_path = \"./model.onnx\"\n",
    "tfdet.export.tf2onnx(model, save_path, opset = 13)"
   ]
  },
  {
   "cell_type": "markdown",
   "id": "92a77217",
   "metadata": {
    "id": "a0c385e6"
   },
   "source": [
    "3-2. Load"
   ]
  },
  {
   "cell_type": "code",
   "execution_count": 8,
   "id": "54a78a99",
   "metadata": {
    "colab": {
     "base_uri": "https://localhost:8080/"
    },
    "executionInfo": {
     "elapsed": 2462,
     "status": "ok",
     "timestamp": 1667272087895,
     "user": {
      "displayName": "김형진",
      "userId": "05530574334109307920"
     },
     "user_tz": -540
    },
    "id": "c87e9e71",
    "outputId": "190623d5-e1c1-4926-a996-609f9c029a73"
   },
   "outputs": [
    {
     "data": {
      "text/plain": [
       "(1, 256, 256, 21)"
      ]
     },
     "execution_count": 8,
     "metadata": {},
     "output_type": "execute_result"
    }
   ],
   "source": [
    "convert_model = tfdet.export.load_onnx(save_path, gpu = 0)\n",
    "pred = convert_model(sample_data)\n",
    "del convert_model\n",
    "pred.shape"
   ]
  },
  {
   "cell_type": "markdown",
   "id": "4c44128d",
   "metadata": {
    "id": "10e31335"
   },
   "source": [
    "# 4. TF2TensorRT"
   ]
  },
  {
   "cell_type": "markdown",
   "id": "f6b6d35e",
   "metadata": {
    "id": "7b5da9d6"
   },
   "source": [
    "3-1. convert(tf > onnx > tensorrt)"
   ]
  },
  {
   "cell_type": "code",
   "execution_count": 9,
   "id": "1c917d2e",
   "metadata": {
    "colab": {
     "base_uri": "https://localhost:8080/",
     "height": 35
    },
    "executionInfo": {
     "elapsed": 38048,
     "status": "ok",
     "timestamp": 1667272125941,
     "user": {
      "displayName": "김형진",
      "userId": "05530574334109307920"
     },
     "user_tz": -540
    },
    "id": "7d851be5",
    "outputId": "552a96a7-bb19-4dd1-9c0a-9d9a8dafa8fd"
   },
   "outputs": [
    {
     "data": {
      "application/vnd.google.colaboratory.intrinsic+json": {
       "type": "string"
      },
      "text/plain": [
       "'./model.onnx'"
      ]
     },
     "execution_count": 9,
     "metadata": {},
     "output_type": "execute_result"
    }
   ],
   "source": [
    "save_path = \"./model.onnx\"\n",
    "tfdet.export.tf2onnx(model, save_path, opset = 13)"
   ]
  },
  {
   "cell_type": "code",
   "execution_count": 10,
   "id": "1319b8fe",
   "metadata": {
    "colab": {
     "base_uri": "https://localhost:8080/",
     "height": 35
    },
    "executionInfo": {
     "elapsed": 46746,
     "status": "ok",
     "timestamp": 1667272172672,
     "user": {
      "displayName": "김형진",
      "userId": "05530574334109307920"
     },
     "user_tz": -540
    },
    "id": "ad8dd2fe",
    "outputId": "1bb54d85-c32e-45ac-f9b4-12f77a66ac1f"
   },
   "outputs": [
    {
     "data": {
      "application/vnd.google.colaboratory.intrinsic+json": {
       "type": "string"
      },
      "text/plain": [
       "'./model.trt'"
      ]
     },
     "execution_count": 10,
     "metadata": {},
     "output_type": "execute_result"
    }
   ],
   "source": [
    "save_trt_path = \"./model.trt\"\n",
    "tfdet.export.onnx2trt(save_path, save_trt_path, dtype = \"FP32\", memory_limit = 1)"
   ]
  },
  {
   "cell_type": "markdown",
   "id": "85dd5b70",
   "metadata": {
    "id": "64780f32"
   },
   "source": [
    "3-2. load"
   ]
  },
  {
   "cell_type": "code",
   "execution_count": 11,
   "id": "b4401888",
   "metadata": {
    "colab": {
     "base_uri": "https://localhost:8080/"
    },
    "executionInfo": {
     "elapsed": 2473,
     "status": "ok",
     "timestamp": 1667272175143,
     "user": {
      "displayName": "김형진",
      "userId": "05530574334109307920"
     },
     "user_tz": -540
    },
    "id": "e423bbb8",
    "outputId": "08d0d21e-710d-4ad5-8ef1-cd903334cd86"
   },
   "outputs": [
    {
     "data": {
      "text/plain": [
       "(1, 256, 256, 21)"
      ]
     },
     "execution_count": 11,
     "metadata": {},
     "output_type": "execute_result"
    }
   ],
   "source": [
    "convert_model = tfdet.export.load_trt(save_trt_path)\n",
    "pred = convert_model(sample_data)\n",
    "del convert_model\n",
    "pred.shape"
   ]
  },
  {
   "cell_type": "code",
   "execution_count": null,
   "id": "cd6bea04",
   "metadata": {
    "id": "MV8mqg2FKoRA"
   },
   "outputs": [],
   "source": []
  }
 ],
 "metadata": {
  "accelerator": "GPU",
  "colab": {
   "collapsed_sections": [],
   "provenance": []
  },
  "gpuClass": "standard",
  "kernelspec": {
   "display_name": "Python 3 (ipykernel)",
   "language": "python",
   "name": "python3"
  },
  "language_info": {
   "codemirror_mode": {
    "name": "ipython",
    "version": 3
   },
   "file_extension": ".py",
   "mimetype": "text/x-python",
   "name": "python",
   "nbconvert_exporter": "python",
   "pygments_lexer": "ipython3",
   "version": "3.9.12"
  }
 },
 "nbformat": 4,
 "nbformat_minor": 5
}
