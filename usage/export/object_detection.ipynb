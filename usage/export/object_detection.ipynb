{
 "cells": [
  {
   "cell_type": "markdown",
   "id": "9b735006",
   "metadata": {
    "id": "03c8e491"
   },
   "source": [
    "# 0. Import Library"
   ]
  },
  {
   "cell_type": "code",
   "execution_count": 1,
   "id": "4197f53f",
   "metadata": {
    "executionInfo": {
     "elapsed": 3,
     "status": "ok",
     "timestamp": 1667273943097,
     "user": {
      "displayName": "김형진",
      "userId": "05530574334109307920"
     },
     "user_tz": -540
    },
    "id": "5ce62e7c"
   },
   "outputs": [],
   "source": [
    "import os\n",
    "if not os.path.exists(\"./tfdet\"):\n",
    "    !git clone -q http://github.com/burf/tfdetection.git\n",
    "    !mv ./tfdetection/tfdet ./tfdet\n",
    "    !rm -rf ./tfdetection"
   ]
  },
  {
   "cell_type": "code",
   "execution_count": 2,
   "id": "e51d8947",
   "metadata": {
    "executionInfo": {
     "elapsed": 3481,
     "status": "ok",
     "timestamp": 1667273946576,
     "user": {
      "displayName": "김형진",
      "userId": "05530574334109307920"
     },
     "user_tz": -540
    },
    "id": "72006720"
   },
   "outputs": [],
   "source": [
    "#ignore warning\n",
    "import warnings, os\n",
    "warnings.filterwarnings(action = \"ignore\")\n",
    "os.environ[\"TF_CPP_MIN_LOG_LEVEL\"] = \"3\"\n",
    "import tensorflow as tf\n",
    "tf.compat.v1.logging.set_verbosity(tf.compat.v1.logging.ERROR)\n",
    "\n",
    "import tfdet"
   ]
  },
  {
   "cell_type": "markdown",
   "id": "9a502fdc",
   "metadata": {
    "id": "33e7801a"
   },
   "source": [
    "# 1. Build Detector"
   ]
  },
  {
   "cell_type": "code",
   "execution_count": 3,
   "id": "1ecf0f8c",
   "metadata": {
    "executionInfo": {
     "elapsed": 4,
     "status": "ok",
     "timestamp": 1667273946576,
     "user": {
      "displayName": "김형진",
      "userId": "05530574334109307920"
     },
     "user_tz": -540
    },
    "id": "d6ba15b7"
   },
   "outputs": [],
   "source": [
    "import numpy as np\n",
    "\n",
    "image_shape = [320, 320]\n",
    "n_class = 21\n",
    "batch_size = 1\n",
    "proposal_count = 100\n",
    "iou_threshold = 0.5\n",
    "score_threshold = 0.25\n",
    "\n",
    "sample_data = np.random.random([batch_size, *image_shape, 3]).astype(np.float32)"
   ]
  },
  {
   "cell_type": "code",
   "execution_count": 4,
   "id": "7ce6701e",
   "metadata": {
    "colab": {
     "base_uri": "https://localhost:8080/"
    },
    "executionInfo": {
     "elapsed": 23280,
     "status": "ok",
     "timestamp": 1667273969852,
     "user": {
      "displayName": "김형진",
      "userId": "05530574334109307920"
     },
     "user_tz": -540
    },
    "id": "62910a88",
    "outputId": "bf097064-e70c-492b-a17e-4cc3a0232e1c"
   },
   "outputs": [
    {
     "data": {
      "text/plain": [
       "([(1, 100, 21), (1, 100, 4)], [(1, 19206, 21), (1, 19206, 4)])"
      ]
     },
     "execution_count": 4,
     "metadata": {},
     "output_type": "execute_result"
    }
   ],
   "source": [
    "save_path = \"./model.h5\"\n",
    "\n",
    "x = tf.keras.layers.Input(shape = [*image_shape, 3], batch_size = batch_size) #init batch_size for tensorrt and tflite's map_fn\n",
    "out = tfdet.model.detector.effdet_lite_d0(x, n_class = n_class, scale = [24, 48, 96, 192, 320], ratio = [0.5, 1, 2], octave = 3, weights = None)\n",
    "nms_out = tfdet.model.postprocess.effdet.FilterDetection(proposal_count = proposal_count, iou_threshold = iou_threshold, score_threshold = score_threshold)(out)\n",
    "trt_out = tfdet.model.postprocess.effdet.FilterDetection(tensorrt = True)(out) # for add tensorrt nms\n",
    "model = tf.keras.Model(x, nms_out)\n",
    "trt_model = tf.keras.Model(x, trt_out)\n",
    "try:\n",
    "    model.load_weights(save_path) #load weight\n",
    "except:\n",
    "    pass\n",
    "\n",
    "[p.shape for p in model.predict(sample_data, verbose = 0)], [p.shape for p in trt_model.predict(sample_data, verbose = 0)]"
   ]
  },
  {
   "cell_type": "markdown",
   "id": "37ed379a",
   "metadata": {
    "id": "fb920214"
   },
   "source": [
    "# 2. TF2TF-Lite"
   ]
  },
  {
   "cell_type": "markdown",
   "id": "ed2491d2",
   "metadata": {
    "id": "6332aa59"
   },
   "source": [
    "2-1. Convert"
   ]
  },
  {
   "cell_type": "code",
   "execution_count": 4,
   "id": "4546208e",
   "metadata": {
    "colab": {
     "base_uri": "https://localhost:8080/",
     "height": 73
    },
    "executionInfo": {
     "elapsed": 127232,
     "status": "ok",
     "timestamp": 1667274099698,
     "user": {
      "displayName": "김형진",
      "userId": "05530574334109307920"
     },
     "user_tz": -540
    },
    "id": "a36305ae",
    "outputId": "ace12ba6-309b-40be-93fb-5e97d2f4f5d7"
   },
   "outputs": [
    {
     "name": "stderr",
     "output_type": "stream",
     "text": [
      "WARNING:absl:Found untraced functions such as head_reshape_layer_call_fn, head_reshape_layer_call_and_return_conditional_losses, logits_layer_call_fn, logits_layer_call_and_return_conditional_losses, logits_concat_layer_call_fn while saving (showing 5 of 370). These functions will not be directly callable after loading.\n"
     ]
    },
    {
     "data": {
      "text/plain": [
       "'./model.tflite'"
      ]
     },
     "execution_count": 4,
     "metadata": {},
     "output_type": "execute_result"
    }
   ],
   "source": [
    "save_path = \"./model.tflite\"\n",
    "tfdet.export.tf2lite(model, save_path, dtype = tf.float32)"
   ]
  },
  {
   "cell_type": "markdown",
   "id": "8eb5cd0e",
   "metadata": {
    "id": "2182fe53"
   },
   "source": [
    "2-2. Load"
   ]
  },
  {
   "cell_type": "code",
   "execution_count": 5,
   "id": "f9ff2389",
   "metadata": {
    "colab": {
     "base_uri": "https://localhost:8080/"
    },
    "executionInfo": {
     "elapsed": 6,
     "status": "ok",
     "timestamp": 1667274099698,
     "user": {
      "displayName": "김형진",
      "userId": "05530574334109307920"
     },
     "user_tz": -540
    },
    "id": "03cdfa73",
    "outputId": "628de1c6-748c-4760-d1d4-140593a00131"
   },
   "outputs": [
    {
     "data": {
      "text/plain": [
       "[(1, 100, 21), (1, 100, 4)]"
      ]
     },
     "execution_count": 5,
     "metadata": {},
     "output_type": "execute_result"
    }
   ],
   "source": [
    "save_path = \"./model.tflite\"\n",
    "convert_model = tfdet.export.load_tflite(save_path)\n",
    "pred = convert_model(sample_data)\n",
    "del convert_model\n",
    "[p.shape for p in pred]"
   ]
  },
  {
   "cell_type": "markdown",
   "id": "e3438fac",
   "metadata": {
    "id": "ca025836"
   },
   "source": [
    "# 3. TF2ONNX"
   ]
  },
  {
   "cell_type": "markdown",
   "id": "cf169232",
   "metadata": {
    "id": "716381f1"
   },
   "source": [
    "3-1. Convert"
   ]
  },
  {
   "cell_type": "code",
   "execution_count": 6,
   "id": "788dc6f8",
   "metadata": {
    "colab": {
     "base_uri": "https://localhost:8080/",
     "height": 35
    },
    "executionInfo": {
     "elapsed": 43302,
     "status": "ok",
     "timestamp": 1667274142996,
     "user": {
      "displayName": "김형진",
      "userId": "05530574334109307920"
     },
     "user_tz": -540
    },
    "id": "d8d83df1",
    "outputId": "95a8dacd-2131-4d9f-c37e-e4c548d3a49a"
   },
   "outputs": [
    {
     "data": {
      "text/plain": [
       "'./model.onnx'"
      ]
     },
     "execution_count": 6,
     "metadata": {},
     "output_type": "execute_result"
    }
   ],
   "source": [
    "save_path = \"./model.onnx\"\n",
    "tfdet.export.tf2onnx(model, save_path, opset = 13)"
   ]
  },
  {
   "cell_type": "markdown",
   "id": "4098c1bd",
   "metadata": {
    "id": "c0d532a0"
   },
   "source": [
    "3-2. Load"
   ]
  },
  {
   "cell_type": "code",
   "execution_count": 7,
   "id": "a2fe9171",
   "metadata": {
    "colab": {
     "base_uri": "https://localhost:8080/"
    },
    "executionInfo": {
     "elapsed": 5,
     "status": "ok",
     "timestamp": 1667274142997,
     "user": {
      "displayName": "김형진",
      "userId": "05530574334109307920"
     },
     "user_tz": -540
    },
    "id": "94ab3b90",
    "outputId": "282d90cc-c46c-4647-863a-e5e802155c25"
   },
   "outputs": [
    {
     "data": {
      "text/plain": [
       "[(1, 100, 21), (1, 100, 4)]"
      ]
     },
     "execution_count": 7,
     "metadata": {},
     "output_type": "execute_result"
    }
   ],
   "source": [
    "convert_model = tfdet.export.load_onnx(save_path, gpu = 0)\n",
    "pred = convert_model(sample_data)\n",
    "del convert_model\n",
    "[p.shape for p in pred]"
   ]
  },
  {
   "cell_type": "markdown",
   "id": "a775854a",
   "metadata": {
    "id": "9461ff13"
   },
   "source": [
    "# 4. TF2TensorRT"
   ]
  },
  {
   "cell_type": "markdown",
   "id": "3cbc636c",
   "metadata": {
    "id": "e1e56688"
   },
   "source": [
    "3-1. convert(tf > onnx > add_trt_nms > tensorrt)"
   ]
  },
  {
   "cell_type": "code",
   "execution_count": 8,
   "id": "b8109b8d",
   "metadata": {
    "colab": {
     "base_uri": "https://localhost:8080/",
     "height": 35
    },
    "executionInfo": {
     "elapsed": 34946,
     "status": "ok",
     "timestamp": 1667274177940,
     "user": {
      "displayName": "김형진",
      "userId": "05530574334109307920"
     },
     "user_tz": -540
    },
    "id": "87a2fee7",
    "outputId": "c11aa52b-486f-4e4f-e1c8-36e56a0f63f4"
   },
   "outputs": [
    {
     "data": {
      "text/plain": [
       "'./trt_model.onnx'"
      ]
     },
     "execution_count": 8,
     "metadata": {},
     "output_type": "execute_result"
    }
   ],
   "source": [
    "save_path = \"./trt_model.onnx\"\n",
    "tfdet.export.tf2onnx(trt_model, save_path, opset = 13)"
   ]
  },
  {
   "cell_type": "code",
   "execution_count": 9,
   "id": "604e0655",
   "metadata": {
    "colab": {
     "base_uri": "https://localhost:8080/",
     "height": 35
    },
    "executionInfo": {
     "elapsed": 990,
     "status": "ok",
     "timestamp": 1667274178927,
     "user": {
      "displayName": "김형진",
      "userId": "05530574334109307920"
     },
     "user_tz": -540
    },
    "id": "3c014028",
    "outputId": "e80d81c4-a51d-4b89-fc29-4774a03c4c26"
   },
   "outputs": [
    {
     "data": {
      "text/plain": [
       "'./trt_model_nms.onnx'"
      ]
     },
     "execution_count": 9,
     "metadata": {},
     "output_type": "execute_result"
    }
   ],
   "source": [
    "save_nms_path = \"./trt_model_nms.onnx\"\n",
    "#raw_output > [num_dets, det_bboxes, det_scores, det_classes], not raw_output > [det_bboxes, det_logits]\n",
    "tfdet.export.add_trt_nms(save_path, save_nms_path, proposal_count = proposal_count, iou_threshold = iou_threshold, score_threshold = score_threshold, raw_output = True)"
   ]
  },
  {
   "cell_type": "code",
   "execution_count": 10,
   "id": "88a762bf",
   "metadata": {
    "colab": {
     "base_uri": "https://localhost:8080/",
     "height": 35
    },
    "executionInfo": {
     "elapsed": 92188,
     "status": "ok",
     "timestamp": 1667274271112,
     "user": {
      "displayName": "김형진",
      "userId": "05530574334109307920"
     },
     "user_tz": -540
    },
    "id": "00250372",
    "outputId": "3020bd23-f778-4528-da7a-b78b4538fe89"
   },
   "outputs": [
    {
     "data": {
      "text/plain": [
       "'./trt_model_nms.trt'"
      ]
     },
     "execution_count": 10,
     "metadata": {},
     "output_type": "execute_result"
    }
   ],
   "source": [
    "save_trt_path = \"./trt_model_nms.trt\"\n",
    "tfdet.export.onnx2trt(save_nms_path, save_trt_path, dtype = \"FP32\", memory_limit = 1)"
   ]
  },
  {
   "cell_type": "markdown",
   "id": "0f08257e",
   "metadata": {
    "id": "5250fa4d"
   },
   "source": [
    "3-2. load"
   ]
  },
  {
   "cell_type": "code",
   "execution_count": 11,
   "id": "e4d7edb5",
   "metadata": {
    "colab": {
     "base_uri": "https://localhost:8080/"
    },
    "executionInfo": {
     "elapsed": 2315,
     "status": "ok",
     "timestamp": 1667274273423,
     "user": {
      "displayName": "김형진",
      "userId": "05530574334109307920"
     },
     "user_tz": -540
    },
    "id": "884063d8",
    "outputId": "b30d03a0-6fd6-47b4-d047-88177c39cf3f"
   },
   "outputs": [
    {
     "data": {
      "text/plain": [
       "[(1, 1), (1, 100, 4), (1, 100), (1, 100)]"
      ]
     },
     "execution_count": 11,
     "metadata": {},
     "output_type": "execute_result"
    }
   ],
   "source": [
    "convert_model = tfdet.export.load_trt(save_trt_path)\n",
    "pred = convert_model(sample_data)\n",
    "del convert_model\n",
    "[p.shape for p in pred]"
   ]
  },
  {
   "cell_type": "code",
   "execution_count": null,
   "id": "c4b2b959",
   "metadata": {
    "id": "c5SzS_3vQDud"
   },
   "outputs": [],
   "source": []
  }
 ],
 "metadata": {
  "accelerator": "GPU",
  "colab": {
   "collapsed_sections": [],
   "provenance": []
  },
  "gpuClass": "standard",
  "kernelspec": {
   "display_name": "Python 3 (ipykernel)",
   "language": "python",
   "name": "python3"
  },
  "language_info": {
   "codemirror_mode": {
    "name": "ipython",
    "version": 3
   },
   "file_extension": ".py",
   "mimetype": "text/x-python",
   "name": "python",
   "nbconvert_exporter": "python",
   "pygments_lexer": "ipython3",
   "version": "3.9.12"
  }
 },
 "nbformat": 4,
 "nbformat_minor": 5
}
