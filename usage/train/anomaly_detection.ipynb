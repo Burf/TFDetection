{
 "cells": [
  {
   "cell_type": "markdown",
   "id": "1e09559e",
   "metadata": {},
   "source": [
    "# 0. Import Library"
   ]
  },
  {
   "cell_type": "code",
   "execution_count": 1,
   "id": "2ab19db6",
   "metadata": {},
   "outputs": [],
   "source": [
    "import os\n",
    "if not os.path.exists(\"./tfdet\"):\n",
    "    !git clone -q http://github.com/burf/tfdetection.git\n",
    "    !mv ./tfdetection/tfdet ./tfdet\n",
    "    !rm -rf ./tfdetection"
   ]
  },
  {
   "cell_type": "code",
   "execution_count": 2,
   "id": "9e916aee",
   "metadata": {},
   "outputs": [],
   "source": [
    "#ignore warning\n",
    "import warnings, os\n",
    "warnings.filterwarnings(action = \"ignore\")\n",
    "os.environ[\"TF_CPP_MIN_LOG_LEVEL\"] = \"3\"\n",
    "import tensorflow as tf\n",
    "tf.compat.v1.logging.set_verbosity(tf.compat.v1.logging.ERROR)\n",
    "\n",
    "import tfdet\n",
    "tfdet.core.util.set_seed(777) #set seed\n",
    "device = tfdet.core.util.select_device(0) #set device"
   ]
  },
  {
   "cell_type": "markdown",
   "id": "115efc41",
   "metadata": {},
   "source": [
    "# 1. Init Dataset"
   ]
  },
  {
   "cell_type": "code",
   "execution_count": 3,
   "id": "d4b21965",
   "metadata": {},
   "outputs": [],
   "source": [
    "import numpy as np\n",
    "\n",
    "image_shape = [32, 32]\n",
    "label = [\"OK\", \"NG\"]\n",
    "train_size = 1000\n",
    "test_size = 100\n",
    "batch_size = 16\n",
    "\n",
    "(tr_x, tr_y), (te_x, te_y) = tf.keras.datasets.mnist.load_data()\n",
    "\n",
    "tr_x = np.expand_dims(tr_x[(tr_y == 0)][:train_size], axis = -1)\n",
    "\n",
    "te_x = np.expand_dims(te_x[:test_size], axis = -1)\n",
    "te_y = np.expand_dims((te_y[:test_size] != 0), axis = -1) #0 is ok, etc is ng.\n",
    "\n",
    "tr_x = np.tile(tr_x, [1, 1, 1, 3])\n",
    "te_x = np.tile(te_x, [1, 1, 1, 3])\n",
    "\n",
    "tr_pipe = tfdet.dataset.pipeline.resize(tr_x, image_shape = image_shape, keep_ratio = False)\n",
    "tr_pipe = tfdet.dataset.pipeline.normalize(tr_pipe, batch_size = batch_size, prefetch = True)\n",
    "\n",
    "te_pipe = tfdet.dataset.pipeline.resize(te_x, image_shape = image_shape, keep_ratio = False)\n",
    "te_pipe = tfdet.dataset.pipeline.normalize(te_pipe, batch_size = batch_size, prefetch = True)"
   ]
  },
  {
   "cell_type": "markdown",
   "id": "ea1c85f1",
   "metadata": {},
   "source": [
    "# 2. Build Detector"
   ]
  },
  {
   "cell_type": "code",
   "execution_count": 4,
   "id": "18ba884a",
   "metadata": {},
   "outputs": [
    {
     "name": "stdout",
     "output_type": "stream",
     "text": [
      "63/63 [==============================] - 6s 83ms/step\n"
     ]
    }
   ],
   "source": [
    "with device:\n",
    "    x = tf.keras.layers.Input(shape = [*image_shape, 3])\n",
    "    out = tfdet.model.backbone.wide_resnet50_2_torch(x, weights = \"imagenet\", indices = [0, 1, 2])\n",
    "    model = tf.keras.Model(x, out)\n",
    "    feature = model.predict(tr_pipe, verbose = 1) #feature extract"
   ]
  },
  {
   "cell_type": "markdown",
   "id": "2fee0e6a",
   "metadata": {},
   "source": [
    "# 3. Train"
   ]
  },
  {
   "cell_type": "markdown",
   "id": "48a26c9e",
   "metadata": {},
   "source": [
    "3-1. Init HyperParameter"
   ]
  },
  {
   "cell_type": "code",
   "execution_count": 5,
   "id": "8ba7917e",
   "metadata": {},
   "outputs": [],
   "source": [
    "sampling_size = 550\n",
    "memory_reduce = True\n",
    "\n",
    "n_feature = np.sum([np.shape(f)[-1] for f in feature])\n",
    "sampling_index = np.random.choice(np.arange(n_feature), sampling_size, replace = False)"
   ]
  },
  {
   "cell_type": "markdown",
   "id": "b59ff986",
   "metadata": {},
   "source": [
    "3-2. Generate Feature Vector"
   ]
  },
  {
   "cell_type": "code",
   "execution_count": 6,
   "id": "aba994ed",
   "metadata": {},
   "outputs": [],
   "source": [
    "with device:\n",
    "    feature_vector = tfdet.model.train.padim.train(feature, sampling_index = sampling_index, memory_reduce = memory_reduce) #memory_reduce is a tradeoff between accuracy and memory"
   ]
  },
  {
   "cell_type": "markdown",
   "id": "ae2c936e",
   "metadata": {},
   "source": [
    "3-3. Build Predict Model"
   ]
  },
  {
   "cell_type": "code",
   "execution_count": 7,
   "id": "50b61fe3",
   "metadata": {},
   "outputs": [
    {
     "name": "stdout",
     "output_type": "stream",
     "text": [
      "7/7 [==============================] - 1s 112ms/step\n"
     ]
    }
   ],
   "source": [
    "with device:\n",
    "    score, mask = tfdet.model.detector.padim(out, feature_vector, image_shape = image_shape, sampling_index = sampling_index, memory_reduce = memory_reduce) #align memory_reduce with train in test\n",
    "    model = tf.keras.Model(x, [score, mask])\n",
    "    pred_score, pred_mask = model.predict(te_pipe, verbose = 1)\n",
    "    threshold = tfdet.util.get_threshold(te_y, pred_score)\n",
    "    filtered_out = tfdet.model.postprocess.padim.FilterDetection(threshold = threshold)([score, mask])\n",
    "    model = tf.keras.Model(x, filtered_out)"
   ]
  },
  {
   "cell_type": "markdown",
   "id": "86c1888c",
   "metadata": {},
   "source": [
    "# 4. Evaluate"
   ]
  },
  {
   "cell_type": "code",
   "execution_count": 8,
   "id": "c763465b",
   "metadata": {},
   "outputs": [
    {
     "name": "stdout",
     "output_type": "stream",
     "text": [
      "score : 0.9900\n"
     ]
    }
   ],
   "source": [
    "pred_score, pred_mask = model.predict(te_pipe, verbose = 0)\n",
    "print(\"score : {0:.4f}\".format(np.mean((0 < pred_score) == te_y)))"
   ]
  },
  {
   "cell_type": "markdown",
   "id": "1fc2e96d",
   "metadata": {},
   "source": [
    "# 5. Save & Load"
   ]
  },
  {
   "cell_type": "markdown",
   "id": "af985113",
   "metadata": {},
   "source": [
    "5-1. Save"
   ]
  },
  {
   "cell_type": "code",
   "execution_count": 9,
   "id": "b2245aef",
   "metadata": {},
   "outputs": [
    {
     "data": {
      "text/plain": [
       "'./learn/model.pickle'"
      ]
     },
     "execution_count": 9,
     "metadata": {},
     "output_type": "execute_result"
    }
   ],
   "source": [
    "import os, shutil, pickle\n",
    "\n",
    "save_path = \"./learn/model.pickle\"\n",
    "\n",
    "if os.path.exists(os.path.dirname(save_path)):\n",
    "    shutil.rmtree(os.path.dirname(save_path))\n",
    "os.makedirs(os.path.dirname(save_path), exist_ok = True)\n",
    "\n",
    "tfdet.dataset.util.save_pickle([image_shape, feature_vector, sampling_index, memory_reduce, threshold], save_path)"
   ]
  },
  {
   "cell_type": "markdown",
   "id": "d0b43dd1",
   "metadata": {},
   "source": [
    "5-2. Load"
   ]
  },
  {
   "cell_type": "code",
   "execution_count": 10,
   "id": "8f10e937",
   "metadata": {},
   "outputs": [
    {
     "name": "stdout",
     "output_type": "stream",
     "text": [
      "score : 0.9900\n"
     ]
    }
   ],
   "source": [
    "save_path = \"./learn/model.pickle\"\n",
    "\n",
    "image_shape, feature_vector, sampling_index, memory_reduce, threshold = tfdet.dataset.util.load_pickle(save_path)\n",
    "    \n",
    "with device:\n",
    "    x = tf.keras.layers.Input(shape = [*image_shape, 3])\n",
    "    out = tfdet.model.backbone.wide_resnet50_2_torch(x, weights = \"imagenet\", indices = [0, 1, 2])\n",
    "    score, mask = tfdet.model.detector.padim(out, feature_vector, image_shape = image_shape, sampling_index = sampling_index, memory_reduce = memory_reduce) #align memory_reduce with train in test\n",
    "    filtered_out = tfdet.model.postprocess.padim.FilterDetection(threshold = threshold)([score, mask])\n",
    "    model = tf.keras.Model(x, filtered_out)\n",
    "    \n",
    "pred_score, pred_mask = model.predict(te_pipe, verbose = 0)\n",
    "print(\"score : {0:.4f}\".format(np.mean((0 < pred_score) == te_y)))"
   ]
  },
  {
   "cell_type": "code",
   "execution_count": null,
   "id": "552f6949",
   "metadata": {},
   "outputs": [],
   "source": []
  }
 ],
 "metadata": {
  "kernelspec": {
   "display_name": "Python 3 (ipykernel)",
   "language": "python",
   "name": "python3"
  },
  "language_info": {
   "codemirror_mode": {
    "name": "ipython",
    "version": 3
   },
   "file_extension": ".py",
   "mimetype": "text/x-python",
   "name": "python",
   "nbconvert_exporter": "python",
   "pygments_lexer": "ipython3",
   "version": "3.9.12"
  }
 },
 "nbformat": 4,
 "nbformat_minor": 5
}
