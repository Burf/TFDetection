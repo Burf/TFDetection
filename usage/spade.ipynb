{
 "cells": [
  {
   "cell_type": "code",
   "execution_count": 1,
   "metadata": {
    "colab": {
     "base_uri": "https://localhost:8080/"
    },
    "executionInfo": {
     "elapsed": 6150,
     "status": "ok",
     "timestamp": 1649608070341,
     "user": {
      "displayName": "김형진",
      "userId": "05530574334109307920"
     },
     "user_tz": -540
    },
    "id": "W2xJyMFyRwLQ",
    "outputId": "415ea0c6-8cd9-4eb4-d9ac-466fa8fd3a62"
   },
   "outputs": [
    {
     "name": "stdout",
     "output_type": "stream",
     "text": [
      "Cloning into 'tfdetection'...\n",
      "remote: Enumerating objects: 218, done.\u001b[K\n",
      "remote: Counting objects: 100% (218/218), done.\u001b[K\n",
      "remote: Compressing objects: 100% (155/155), done.\u001b[K\n",
      "remote: Total 218 (delta 92), reused 170 (delta 59), pack-reused 0\u001b[K\n",
      "Receiving objects: 100% (218/218), 4.18 MiB | 8.89 MiB/s, done.\n",
      "Resolving deltas: 100% (92/92), done.\n",
      "running bdist_wheel\n",
      "running build\n",
      "running build_py\n",
      "creating build\n",
      "creating build/lib\n",
      "creating build/lib/tfdet\n",
      "copying tfdet/__init__.py -> build/lib/tfdet\n",
      "creating build/lib/tfdet/core\n",
      "copying tfdet/core/__init__.py -> build/lib/tfdet/core\n",
      "creating build/lib/tfdet/util\n",
      "copying tfdet/util/metric.py -> build/lib/tfdet/util\n",
      "copying tfdet/util/__init__.py -> build/lib/tfdet/util\n",
      "copying tfdet/util/visualize.py -> build/lib/tfdet/util\n",
      "creating build/lib/tfdet/model\n",
      "copying tfdet/model/__init__.py -> build/lib/tfdet/model\n",
      "creating build/lib/tfdet/core/target\n",
      "copying tfdet/core/target/point_target.py -> build/lib/tfdet/core/target\n",
      "copying tfdet/core/target/rcnn_target.py -> build/lib/tfdet/core/target\n",
      "copying tfdet/core/target/__init__.py -> build/lib/tfdet/core/target\n",
      "copying tfdet/core/target/anchor_target.py -> build/lib/tfdet/core/target\n",
      "copying tfdet/core/target/yolo_target.py -> build/lib/tfdet/core/target\n",
      "creating build/lib/tfdet/core/util\n",
      "copying tfdet/core/util/overlap.py -> build/lib/tfdet/core/util\n",
      "copying tfdet/core/util/tf.py -> build/lib/tfdet/core/util\n",
      "copying tfdet/core/util/anodet.py -> build/lib/tfdet/core/util\n",
      "copying tfdet/core/util/__init__.py -> build/lib/tfdet/core/util\n",
      "copying tfdet/core/util/distance.py -> build/lib/tfdet/core/util\n",
      "copying tfdet/core/util/anchor.py -> build/lib/tfdet/core/util\n",
      "copying tfdet/core/util/nms.py -> build/lib/tfdet/core/util\n",
      "copying tfdet/core/util/loss.py -> build/lib/tfdet/core/util\n",
      "copying tfdet/core/util/bbox.py -> build/lib/tfdet/core/util\n",
      "creating build/lib/tfdet/model/neck\n",
      "copying tfdet/model/neck/__init__.py -> build/lib/tfdet/model/neck\n",
      "copying tfdet/model/neck/fpn.py -> build/lib/tfdet/model/neck\n",
      "creating build/lib/tfdet/model/detector\n",
      "copying tfdet/model/detector/spade.py -> build/lib/tfdet/model/detector\n",
      "copying tfdet/model/detector/padim.py -> build/lib/tfdet/model/detector\n",
      "copying tfdet/model/detector/yolo.py -> build/lib/tfdet/model/detector\n",
      "copying tfdet/model/detector/fcos.py -> build/lib/tfdet/model/detector\n",
      "copying tfdet/model/detector/effdet.py -> build/lib/tfdet/model/detector\n",
      "copying tfdet/model/detector/__init__.py -> build/lib/tfdet/model/detector\n",
      "copying tfdet/model/detector/patch_core.py -> build/lib/tfdet/model/detector\n",
      "copying tfdet/model/detector/retina.py -> build/lib/tfdet/model/detector\n",
      "copying tfdet/model/detector/rcnn.py -> build/lib/tfdet/model/detector\n",
      "creating build/lib/tfdet/model/backbone\n",
      "copying tfdet/model/backbone/effnet.py -> build/lib/tfdet/model/backbone\n",
      "copying tfdet/model/backbone/densenet.py -> build/lib/tfdet/model/backbone\n",
      "copying tfdet/model/backbone/resnet.py -> build/lib/tfdet/model/backbone\n",
      "copying tfdet/model/backbone/__init__.py -> build/lib/tfdet/model/backbone\n",
      "copying tfdet/model/backbone/resnest.py -> build/lib/tfdet/model/backbone\n",
      "copying tfdet/model/backbone/swin_transformer.py -> build/lib/tfdet/model/backbone\n",
      "copying tfdet/model/backbone/mobilenet.py -> build/lib/tfdet/model/backbone\n",
      "copying tfdet/model/backbone/darknet.py -> build/lib/tfdet/model/backbone\n",
      "copying tfdet/model/backbone/resnet_torch.py -> build/lib/tfdet/model/backbone\n",
      "copying tfdet/model/backbone/vgg.py -> build/lib/tfdet/model/backbone\n",
      "creating build/lib/tfdet/model/loss\n",
      "copying tfdet/model/loss/yolo.py -> build/lib/tfdet/model/loss\n",
      "copying tfdet/model/loss/fcos.py -> build/lib/tfdet/model/loss\n",
      "copying tfdet/model/loss/__init__.py -> build/lib/tfdet/model/loss\n",
      "copying tfdet/model/loss/common.py -> build/lib/tfdet/model/loss\n",
      "copying tfdet/model/loss/retina.py -> build/lib/tfdet/model/loss\n",
      "copying tfdet/model/loss/rcnn.py -> build/lib/tfdet/model/loss\n",
      "creating build/lib/tfdet/model/train\n",
      "copying tfdet/model/train/spade.py -> build/lib/tfdet/model/train\n",
      "copying tfdet/model/train/padim.py -> build/lib/tfdet/model/train\n",
      "copying tfdet/model/train/yolo.py -> build/lib/tfdet/model/train\n",
      "copying tfdet/model/train/fcos.py -> build/lib/tfdet/model/train\n",
      "copying tfdet/model/train/__init__.py -> build/lib/tfdet/model/train\n",
      "copying tfdet/model/train/patch_core.py -> build/lib/tfdet/model/train\n",
      "copying tfdet/model/train/retina.py -> build/lib/tfdet/model/train\n",
      "copying tfdet/model/train/rcnn.py -> build/lib/tfdet/model/train\n",
      "creating build/lib/tfdet/model/postprocess\n",
      "copying tfdet/model/postprocess/anodet.py -> build/lib/tfdet/model/postprocess\n",
      "copying tfdet/model/postprocess/yolo.py -> build/lib/tfdet/model/postprocess\n",
      "copying tfdet/model/postprocess/__init__.py -> build/lib/tfdet/model/postprocess\n",
      "copying tfdet/model/postprocess/retina.py -> build/lib/tfdet/model/postprocess\n",
      "copying tfdet/model/postprocess/rcnn.py -> build/lib/tfdet/model/postprocess\n",
      "creating build/lib/tfdet/model/head\n",
      "copying tfdet/model/head/spade.py -> build/lib/tfdet/model/head\n",
      "copying tfdet/model/head/padim.py -> build/lib/tfdet/model/head\n",
      "copying tfdet/model/head/yolo.py -> build/lib/tfdet/model/head\n",
      "copying tfdet/model/head/fcos.py -> build/lib/tfdet/model/head\n",
      "copying tfdet/model/head/__init__.py -> build/lib/tfdet/model/head\n",
      "copying tfdet/model/head/patch_core.py -> build/lib/tfdet/model/head\n",
      "copying tfdet/model/head/retina.py -> build/lib/tfdet/model/head\n",
      "copying tfdet/model/head/rcnn.py -> build/lib/tfdet/model/head\n",
      "installing to build/bdist.linux-x86_64/wheel\n",
      "running install\n",
      "running install_lib\n",
      "creating build/bdist.linux-x86_64\n",
      "creating build/bdist.linux-x86_64/wheel\n",
      "creating build/bdist.linux-x86_64/wheel/tfdet\n",
      "creating build/bdist.linux-x86_64/wheel/tfdet/core\n",
      "creating build/bdist.linux-x86_64/wheel/tfdet/core/target\n",
      "copying build/lib/tfdet/core/target/point_target.py -> build/bdist.linux-x86_64/wheel/tfdet/core/target\n",
      "copying build/lib/tfdet/core/target/rcnn_target.py -> build/bdist.linux-x86_64/wheel/tfdet/core/target\n",
      "copying build/lib/tfdet/core/target/__init__.py -> build/bdist.linux-x86_64/wheel/tfdet/core/target\n",
      "copying build/lib/tfdet/core/target/anchor_target.py -> build/bdist.linux-x86_64/wheel/tfdet/core/target\n",
      "copying build/lib/tfdet/core/target/yolo_target.py -> build/bdist.linux-x86_64/wheel/tfdet/core/target\n",
      "creating build/bdist.linux-x86_64/wheel/tfdet/core/util\n",
      "copying build/lib/tfdet/core/util/overlap.py -> build/bdist.linux-x86_64/wheel/tfdet/core/util\n",
      "copying build/lib/tfdet/core/util/tf.py -> build/bdist.linux-x86_64/wheel/tfdet/core/util\n",
      "copying build/lib/tfdet/core/util/anodet.py -> build/bdist.linux-x86_64/wheel/tfdet/core/util\n",
      "copying build/lib/tfdet/core/util/__init__.py -> build/bdist.linux-x86_64/wheel/tfdet/core/util\n",
      "copying build/lib/tfdet/core/util/distance.py -> build/bdist.linux-x86_64/wheel/tfdet/core/util\n",
      "copying build/lib/tfdet/core/util/anchor.py -> build/bdist.linux-x86_64/wheel/tfdet/core/util\n",
      "copying build/lib/tfdet/core/util/nms.py -> build/bdist.linux-x86_64/wheel/tfdet/core/util\n",
      "copying build/lib/tfdet/core/util/loss.py -> build/bdist.linux-x86_64/wheel/tfdet/core/util\n",
      "copying build/lib/tfdet/core/util/bbox.py -> build/bdist.linux-x86_64/wheel/tfdet/core/util\n",
      "copying build/lib/tfdet/core/__init__.py -> build/bdist.linux-x86_64/wheel/tfdet/core\n",
      "creating build/bdist.linux-x86_64/wheel/tfdet/util\n",
      "copying build/lib/tfdet/util/metric.py -> build/bdist.linux-x86_64/wheel/tfdet/util\n",
      "copying build/lib/tfdet/util/__init__.py -> build/bdist.linux-x86_64/wheel/tfdet/util\n",
      "copying build/lib/tfdet/util/visualize.py -> build/bdist.linux-x86_64/wheel/tfdet/util\n",
      "creating build/bdist.linux-x86_64/wheel/tfdet/model\n",
      "creating build/bdist.linux-x86_64/wheel/tfdet/model/neck\n",
      "copying build/lib/tfdet/model/neck/__init__.py -> build/bdist.linux-x86_64/wheel/tfdet/model/neck\n",
      "copying build/lib/tfdet/model/neck/fpn.py -> build/bdist.linux-x86_64/wheel/tfdet/model/neck\n",
      "creating build/bdist.linux-x86_64/wheel/tfdet/model/detector\n",
      "copying build/lib/tfdet/model/detector/spade.py -> build/bdist.linux-x86_64/wheel/tfdet/model/detector\n",
      "copying build/lib/tfdet/model/detector/padim.py -> build/bdist.linux-x86_64/wheel/tfdet/model/detector\n",
      "copying build/lib/tfdet/model/detector/yolo.py -> build/bdist.linux-x86_64/wheel/tfdet/model/detector\n",
      "copying build/lib/tfdet/model/detector/fcos.py -> build/bdist.linux-x86_64/wheel/tfdet/model/detector\n",
      "copying build/lib/tfdet/model/detector/effdet.py -> build/bdist.linux-x86_64/wheel/tfdet/model/detector\n",
      "copying build/lib/tfdet/model/detector/__init__.py -> build/bdist.linux-x86_64/wheel/tfdet/model/detector\n",
      "copying build/lib/tfdet/model/detector/patch_core.py -> build/bdist.linux-x86_64/wheel/tfdet/model/detector\n",
      "copying build/lib/tfdet/model/detector/retina.py -> build/bdist.linux-x86_64/wheel/tfdet/model/detector\n",
      "copying build/lib/tfdet/model/detector/rcnn.py -> build/bdist.linux-x86_64/wheel/tfdet/model/detector\n",
      "copying build/lib/tfdet/model/__init__.py -> build/bdist.linux-x86_64/wheel/tfdet/model\n",
      "creating build/bdist.linux-x86_64/wheel/tfdet/model/backbone\n",
      "copying build/lib/tfdet/model/backbone/effnet.py -> build/bdist.linux-x86_64/wheel/tfdet/model/backbone\n",
      "copying build/lib/tfdet/model/backbone/densenet.py -> build/bdist.linux-x86_64/wheel/tfdet/model/backbone\n",
      "copying build/lib/tfdet/model/backbone/resnet.py -> build/bdist.linux-x86_64/wheel/tfdet/model/backbone\n",
      "copying build/lib/tfdet/model/backbone/__init__.py -> build/bdist.linux-x86_64/wheel/tfdet/model/backbone\n",
      "copying build/lib/tfdet/model/backbone/resnest.py -> build/bdist.linux-x86_64/wheel/tfdet/model/backbone\n",
      "copying build/lib/tfdet/model/backbone/swin_transformer.py -> build/bdist.linux-x86_64/wheel/tfdet/model/backbone\n",
      "copying build/lib/tfdet/model/backbone/mobilenet.py -> build/bdist.linux-x86_64/wheel/tfdet/model/backbone\n",
      "copying build/lib/tfdet/model/backbone/darknet.py -> build/bdist.linux-x86_64/wheel/tfdet/model/backbone\n",
      "copying build/lib/tfdet/model/backbone/resnet_torch.py -> build/bdist.linux-x86_64/wheel/tfdet/model/backbone\n",
      "copying build/lib/tfdet/model/backbone/vgg.py -> build/bdist.linux-x86_64/wheel/tfdet/model/backbone\n",
      "creating build/bdist.linux-x86_64/wheel/tfdet/model/loss\n",
      "copying build/lib/tfdet/model/loss/yolo.py -> build/bdist.linux-x86_64/wheel/tfdet/model/loss\n",
      "copying build/lib/tfdet/model/loss/fcos.py -> build/bdist.linux-x86_64/wheel/tfdet/model/loss\n",
      "copying build/lib/tfdet/model/loss/__init__.py -> build/bdist.linux-x86_64/wheel/tfdet/model/loss\n",
      "copying build/lib/tfdet/model/loss/common.py -> build/bdist.linux-x86_64/wheel/tfdet/model/loss\n",
      "copying build/lib/tfdet/model/loss/retina.py -> build/bdist.linux-x86_64/wheel/tfdet/model/loss\n",
      "copying build/lib/tfdet/model/loss/rcnn.py -> build/bdist.linux-x86_64/wheel/tfdet/model/loss\n",
      "creating build/bdist.linux-x86_64/wheel/tfdet/model/train\n",
      "copying build/lib/tfdet/model/train/spade.py -> build/bdist.linux-x86_64/wheel/tfdet/model/train\n",
      "copying build/lib/tfdet/model/train/padim.py -> build/bdist.linux-x86_64/wheel/tfdet/model/train\n",
      "copying build/lib/tfdet/model/train/yolo.py -> build/bdist.linux-x86_64/wheel/tfdet/model/train\n",
      "copying build/lib/tfdet/model/train/fcos.py -> build/bdist.linux-x86_64/wheel/tfdet/model/train\n",
      "copying build/lib/tfdet/model/train/__init__.py -> build/bdist.linux-x86_64/wheel/tfdet/model/train\n",
      "copying build/lib/tfdet/model/train/patch_core.py -> build/bdist.linux-x86_64/wheel/tfdet/model/train\n",
      "copying build/lib/tfdet/model/train/retina.py -> build/bdist.linux-x86_64/wheel/tfdet/model/train\n",
      "copying build/lib/tfdet/model/train/rcnn.py -> build/bdist.linux-x86_64/wheel/tfdet/model/train\n",
      "creating build/bdist.linux-x86_64/wheel/tfdet/model/postprocess\n",
      "copying build/lib/tfdet/model/postprocess/anodet.py -> build/bdist.linux-x86_64/wheel/tfdet/model/postprocess\n",
      "copying build/lib/tfdet/model/postprocess/yolo.py -> build/bdist.linux-x86_64/wheel/tfdet/model/postprocess\n",
      "copying build/lib/tfdet/model/postprocess/__init__.py -> build/bdist.linux-x86_64/wheel/tfdet/model/postprocess\n",
      "copying build/lib/tfdet/model/postprocess/retina.py -> build/bdist.linux-x86_64/wheel/tfdet/model/postprocess\n",
      "copying build/lib/tfdet/model/postprocess/rcnn.py -> build/bdist.linux-x86_64/wheel/tfdet/model/postprocess\n",
      "creating build/bdist.linux-x86_64/wheel/tfdet/model/head\n",
      "copying build/lib/tfdet/model/head/spade.py -> build/bdist.linux-x86_64/wheel/tfdet/model/head\n",
      "copying build/lib/tfdet/model/head/padim.py -> build/bdist.linux-x86_64/wheel/tfdet/model/head\n",
      "copying build/lib/tfdet/model/head/yolo.py -> build/bdist.linux-x86_64/wheel/tfdet/model/head\n",
      "copying build/lib/tfdet/model/head/fcos.py -> build/bdist.linux-x86_64/wheel/tfdet/model/head\n",
      "copying build/lib/tfdet/model/head/__init__.py -> build/bdist.linux-x86_64/wheel/tfdet/model/head\n",
      "copying build/lib/tfdet/model/head/patch_core.py -> build/bdist.linux-x86_64/wheel/tfdet/model/head\n",
      "copying build/lib/tfdet/model/head/retina.py -> build/bdist.linux-x86_64/wheel/tfdet/model/head\n",
      "copying build/lib/tfdet/model/head/rcnn.py -> build/bdist.linux-x86_64/wheel/tfdet/model/head\n",
      "copying build/lib/tfdet/__init__.py -> build/bdist.linux-x86_64/wheel/tfdet\n",
      "running install_egg_info\n",
      "running egg_info\n",
      "creating tfdet.egg-info\n",
      "writing tfdet.egg-info/PKG-INFO\n",
      "writing dependency_links to tfdet.egg-info/dependency_links.txt\n",
      "writing requirements to tfdet.egg-info/requires.txt\n",
      "writing top-level names to tfdet.egg-info/top_level.txt\n",
      "writing manifest file 'tfdet.egg-info/SOURCES.txt'\n",
      "adding license file 'LICENSE'\n",
      "writing manifest file 'tfdet.egg-info/SOURCES.txt'\n",
      "Copying tfdet.egg-info to build/bdist.linux-x86_64/wheel/tfdet-1.0.0-py3.7.egg-info\n",
      "running install_scripts\n",
      "adding license file \"LICENSE\" (matched pattern \"LICEN[CS]E*\")\n",
      "creating build/bdist.linux-x86_64/wheel/tfdet-1.0.0.dist-info/WHEEL\n",
      "creating 'dist/tfdet-1.0.0-py3-none-any.whl' and adding 'build/bdist.linux-x86_64/wheel' to it\n",
      "adding 'tfdet/__init__.py'\n",
      "adding 'tfdet/core/__init__.py'\n",
      "adding 'tfdet/core/target/__init__.py'\n",
      "adding 'tfdet/core/target/anchor_target.py'\n",
      "adding 'tfdet/core/target/point_target.py'\n",
      "adding 'tfdet/core/target/rcnn_target.py'\n",
      "adding 'tfdet/core/target/yolo_target.py'\n",
      "adding 'tfdet/core/util/__init__.py'\n",
      "adding 'tfdet/core/util/anchor.py'\n",
      "adding 'tfdet/core/util/anodet.py'\n",
      "adding 'tfdet/core/util/bbox.py'\n",
      "adding 'tfdet/core/util/distance.py'\n",
      "adding 'tfdet/core/util/loss.py'\n",
      "adding 'tfdet/core/util/nms.py'\n",
      "adding 'tfdet/core/util/overlap.py'\n",
      "adding 'tfdet/core/util/tf.py'\n",
      "adding 'tfdet/model/__init__.py'\n",
      "adding 'tfdet/model/backbone/__init__.py'\n",
      "adding 'tfdet/model/backbone/darknet.py'\n",
      "adding 'tfdet/model/backbone/densenet.py'\n",
      "adding 'tfdet/model/backbone/effnet.py'\n",
      "adding 'tfdet/model/backbone/mobilenet.py'\n",
      "adding 'tfdet/model/backbone/resnest.py'\n",
      "adding 'tfdet/model/backbone/resnet.py'\n",
      "adding 'tfdet/model/backbone/resnet_torch.py'\n",
      "adding 'tfdet/model/backbone/swin_transformer.py'\n",
      "adding 'tfdet/model/backbone/vgg.py'\n",
      "adding 'tfdet/model/detector/__init__.py'\n",
      "adding 'tfdet/model/detector/effdet.py'\n",
      "adding 'tfdet/model/detector/fcos.py'\n",
      "adding 'tfdet/model/detector/padim.py'\n",
      "adding 'tfdet/model/detector/patch_core.py'\n",
      "adding 'tfdet/model/detector/rcnn.py'\n",
      "adding 'tfdet/model/detector/retina.py'\n",
      "adding 'tfdet/model/detector/spade.py'\n",
      "adding 'tfdet/model/detector/yolo.py'\n",
      "adding 'tfdet/model/head/__init__.py'\n",
      "adding 'tfdet/model/head/fcos.py'\n",
      "adding 'tfdet/model/head/padim.py'\n",
      "adding 'tfdet/model/head/patch_core.py'\n",
      "adding 'tfdet/model/head/rcnn.py'\n",
      "adding 'tfdet/model/head/retina.py'\n",
      "adding 'tfdet/model/head/spade.py'\n",
      "adding 'tfdet/model/head/yolo.py'\n",
      "adding 'tfdet/model/loss/__init__.py'\n",
      "adding 'tfdet/model/loss/common.py'\n",
      "adding 'tfdet/model/loss/fcos.py'\n",
      "adding 'tfdet/model/loss/rcnn.py'\n",
      "adding 'tfdet/model/loss/retina.py'\n",
      "adding 'tfdet/model/loss/yolo.py'\n",
      "adding 'tfdet/model/neck/__init__.py'\n",
      "adding 'tfdet/model/neck/fpn.py'\n",
      "adding 'tfdet/model/postprocess/__init__.py'\n",
      "adding 'tfdet/model/postprocess/anodet.py'\n",
      "adding 'tfdet/model/postprocess/rcnn.py'\n",
      "adding 'tfdet/model/postprocess/retina.py'\n",
      "adding 'tfdet/model/postprocess/yolo.py'\n",
      "adding 'tfdet/model/train/__init__.py'\n",
      "adding 'tfdet/model/train/fcos.py'\n",
      "adding 'tfdet/model/train/padim.py'\n",
      "adding 'tfdet/model/train/patch_core.py'\n",
      "adding 'tfdet/model/train/rcnn.py'\n",
      "adding 'tfdet/model/train/retina.py'\n",
      "adding 'tfdet/model/train/spade.py'\n",
      "adding 'tfdet/model/train/yolo.py'\n",
      "adding 'tfdet/util/__init__.py'\n",
      "adding 'tfdet/util/metric.py'\n",
      "adding 'tfdet/util/visualize.py'\n",
      "adding 'tfdet-1.0.0.dist-info/LICENSE'\n",
      "adding 'tfdet-1.0.0.dist-info/METADATA'\n",
      "adding 'tfdet-1.0.0.dist-info/WHEEL'\n",
      "adding 'tfdet-1.0.0.dist-info/top_level.txt'\n",
      "adding 'tfdet-1.0.0.dist-info/RECORD'\n",
      "removing build/bdist.linux-x86_64/wheel\n",
      "Processing ./dist/tfdet-1.0.0-py3-none-any.whl\n",
      "Requirement already satisfied: tensorflow>=2.4 in /usr/local/lib/python3.7/dist-packages (from tfdet==1.0.0) (2.8.0)\n",
      "Requirement already satisfied: keras in /usr/local/lib/python3.7/dist-packages (from tfdet==1.0.0) (2.8.0)\n",
      "Requirement already satisfied: grpcio<2.0,>=1.24.3 in /usr/local/lib/python3.7/dist-packages (from tensorflow>=2.4->tfdet==1.0.0) (1.44.0)\n",
      "Requirement already satisfied: google-pasta>=0.1.1 in /usr/local/lib/python3.7/dist-packages (from tensorflow>=2.4->tfdet==1.0.0) (0.2.0)\n",
      "Collecting tf-estimator-nightly==2.8.0.dev2021122109\n",
      "  Downloading tf_estimator_nightly-2.8.0.dev2021122109-py2.py3-none-any.whl (462 kB)\n",
      "\u001b[K     |████████████████████████████████| 462 kB 33.4 MB/s \n",
      "\u001b[?25hRequirement already satisfied: gast>=0.2.1 in /usr/local/lib/python3.7/dist-packages (from tensorflow>=2.4->tfdet==1.0.0) (0.5.3)\n",
      "Requirement already satisfied: tensorflow-io-gcs-filesystem>=0.23.1 in /usr/local/lib/python3.7/dist-packages (from tensorflow>=2.4->tfdet==1.0.0) (0.24.0)\n",
      "Requirement already satisfied: typing-extensions>=3.6.6 in /usr/local/lib/python3.7/dist-packages (from tensorflow>=2.4->tfdet==1.0.0) (3.10.0.2)\n",
      "Requirement already satisfied: wrapt>=1.11.0 in /usr/local/lib/python3.7/dist-packages (from tensorflow>=2.4->tfdet==1.0.0) (1.14.0)\n",
      "Requirement already satisfied: numpy>=1.20 in /usr/local/lib/python3.7/dist-packages (from tensorflow>=2.4->tfdet==1.0.0) (1.21.5)\n",
      "Requirement already satisfied: setuptools in /usr/local/lib/python3.7/dist-packages (from tensorflow>=2.4->tfdet==1.0.0) (57.4.0)\n",
      "Requirement already satisfied: tensorboard<2.9,>=2.8 in /usr/local/lib/python3.7/dist-packages (from tensorflow>=2.4->tfdet==1.0.0) (2.8.0)\n",
      "Requirement already satisfied: keras-preprocessing>=1.1.1 in /usr/local/lib/python3.7/dist-packages (from tensorflow>=2.4->tfdet==1.0.0) (1.1.2)\n",
      "Requirement already satisfied: six>=1.12.0 in /usr/local/lib/python3.7/dist-packages (from tensorflow>=2.4->tfdet==1.0.0) (1.15.0)\n",
      "Requirement already satisfied: termcolor>=1.1.0 in /usr/local/lib/python3.7/dist-packages (from tensorflow>=2.4->tfdet==1.0.0) (1.1.0)\n",
      "Requirement already satisfied: protobuf>=3.9.2 in /usr/local/lib/python3.7/dist-packages (from tensorflow>=2.4->tfdet==1.0.0) (3.17.3)\n",
      "Requirement already satisfied: h5py>=2.9.0 in /usr/local/lib/python3.7/dist-packages (from tensorflow>=2.4->tfdet==1.0.0) (3.1.0)\n",
      "Requirement already satisfied: astunparse>=1.6.0 in /usr/local/lib/python3.7/dist-packages (from tensorflow>=2.4->tfdet==1.0.0) (1.6.3)\n",
      "Requirement already satisfied: flatbuffers>=1.12 in /usr/local/lib/python3.7/dist-packages (from tensorflow>=2.4->tfdet==1.0.0) (2.0)\n",
      "Requirement already satisfied: libclang>=9.0.1 in /usr/local/lib/python3.7/dist-packages (from tensorflow>=2.4->tfdet==1.0.0) (13.0.0)\n",
      "Requirement already satisfied: absl-py>=0.4.0 in /usr/local/lib/python3.7/dist-packages (from tensorflow>=2.4->tfdet==1.0.0) (1.0.0)\n",
      "Requirement already satisfied: opt-einsum>=2.3.2 in /usr/local/lib/python3.7/dist-packages (from tensorflow>=2.4->tfdet==1.0.0) (3.3.0)\n",
      "Requirement already satisfied: wheel<1.0,>=0.23.0 in /usr/local/lib/python3.7/dist-packages (from astunparse>=1.6.0->tensorflow>=2.4->tfdet==1.0.0) (0.37.1)\n",
      "Requirement already satisfied: cached-property in /usr/local/lib/python3.7/dist-packages (from h5py>=2.9.0->tensorflow>=2.4->tfdet==1.0.0) (1.5.2)\n",
      "Requirement already satisfied: requests<3,>=2.21.0 in /usr/local/lib/python3.7/dist-packages (from tensorboard<2.9,>=2.8->tensorflow>=2.4->tfdet==1.0.0) (2.23.0)\n",
      "Requirement already satisfied: tensorboard-plugin-wit>=1.6.0 in /usr/local/lib/python3.7/dist-packages (from tensorboard<2.9,>=2.8->tensorflow>=2.4->tfdet==1.0.0) (1.8.1)\n",
      "Requirement already satisfied: google-auth<3,>=1.6.3 in /usr/local/lib/python3.7/dist-packages (from tensorboard<2.9,>=2.8->tensorflow>=2.4->tfdet==1.0.0) (1.35.0)\n",
      "Requirement already satisfied: tensorboard-data-server<0.7.0,>=0.6.0 in /usr/local/lib/python3.7/dist-packages (from tensorboard<2.9,>=2.8->tensorflow>=2.4->tfdet==1.0.0) (0.6.1)\n",
      "Requirement already satisfied: werkzeug>=0.11.15 in /usr/local/lib/python3.7/dist-packages (from tensorboard<2.9,>=2.8->tensorflow>=2.4->tfdet==1.0.0) (1.0.1)\n",
      "Requirement already satisfied: google-auth-oauthlib<0.5,>=0.4.1 in /usr/local/lib/python3.7/dist-packages (from tensorboard<2.9,>=2.8->tensorflow>=2.4->tfdet==1.0.0) (0.4.6)\n",
      "Requirement already satisfied: markdown>=2.6.8 in /usr/local/lib/python3.7/dist-packages (from tensorboard<2.9,>=2.8->tensorflow>=2.4->tfdet==1.0.0) (3.3.6)\n",
      "Requirement already satisfied: rsa<5,>=3.1.4 in /usr/local/lib/python3.7/dist-packages (from google-auth<3,>=1.6.3->tensorboard<2.9,>=2.8->tensorflow>=2.4->tfdet==1.0.0) (4.8)\n",
      "Requirement already satisfied: pyasn1-modules>=0.2.1 in /usr/local/lib/python3.7/dist-packages (from google-auth<3,>=1.6.3->tensorboard<2.9,>=2.8->tensorflow>=2.4->tfdet==1.0.0) (0.2.8)\n",
      "Requirement already satisfied: cachetools<5.0,>=2.0.0 in /usr/local/lib/python3.7/dist-packages (from google-auth<3,>=1.6.3->tensorboard<2.9,>=2.8->tensorflow>=2.4->tfdet==1.0.0) (4.2.4)\n",
      "Requirement already satisfied: requests-oauthlib>=0.7.0 in /usr/local/lib/python3.7/dist-packages (from google-auth-oauthlib<0.5,>=0.4.1->tensorboard<2.9,>=2.8->tensorflow>=2.4->tfdet==1.0.0) (1.3.1)\n",
      "Requirement already satisfied: importlib-metadata>=4.4 in /usr/local/lib/python3.7/dist-packages (from markdown>=2.6.8->tensorboard<2.9,>=2.8->tensorflow>=2.4->tfdet==1.0.0) (4.11.3)\n",
      "Requirement already satisfied: zipp>=0.5 in /usr/local/lib/python3.7/dist-packages (from importlib-metadata>=4.4->markdown>=2.6.8->tensorboard<2.9,>=2.8->tensorflow>=2.4->tfdet==1.0.0) (3.7.0)\n",
      "Requirement already satisfied: pyasn1<0.5.0,>=0.4.6 in /usr/local/lib/python3.7/dist-packages (from pyasn1-modules>=0.2.1->google-auth<3,>=1.6.3->tensorboard<2.9,>=2.8->tensorflow>=2.4->tfdet==1.0.0) (0.4.8)\n",
      "Requirement already satisfied: urllib3!=1.25.0,!=1.25.1,<1.26,>=1.21.1 in /usr/local/lib/python3.7/dist-packages (from requests<3,>=2.21.0->tensorboard<2.9,>=2.8->tensorflow>=2.4->tfdet==1.0.0) (1.24.3)\n",
      "Requirement already satisfied: chardet<4,>=3.0.2 in /usr/local/lib/python3.7/dist-packages (from requests<3,>=2.21.0->tensorboard<2.9,>=2.8->tensorflow>=2.4->tfdet==1.0.0) (3.0.4)\n",
      "Requirement already satisfied: idna<3,>=2.5 in /usr/local/lib/python3.7/dist-packages (from requests<3,>=2.21.0->tensorboard<2.9,>=2.8->tensorflow>=2.4->tfdet==1.0.0) (2.10)\n",
      "Requirement already satisfied: certifi>=2017.4.17 in /usr/local/lib/python3.7/dist-packages (from requests<3,>=2.21.0->tensorboard<2.9,>=2.8->tensorflow>=2.4->tfdet==1.0.0) (2021.10.8)\n",
      "Requirement already satisfied: oauthlib>=3.0.0 in /usr/local/lib/python3.7/dist-packages (from requests-oauthlib>=0.7.0->google-auth-oauthlib<0.5,>=0.4.1->tensorboard<2.9,>=2.8->tensorflow>=2.4->tfdet==1.0.0) (3.2.0)\n",
      "Installing collected packages: tf-estimator-nightly, tfdet\n",
      "Successfully installed tf-estimator-nightly-2.8.0.dev2021122109 tfdet-1.0.0\n"
     ]
    }
   ],
   "source": [
    "import os\n",
    "!git clone https://github.com/burf/tfdetection\n",
    "os.chdir(os.path.join(os.getcwd(), \"tfdetection\"))\n",
    "!python setup.py bdist_wheel\n",
    "!pip install ./dist/tfdet-1.0.0-py3-none-any.whl\n",
    "os.chdir(os.path.dirname(os.getcwd()))"
   ]
  },
  {
   "cell_type": "code",
   "execution_count": 2,
   "metadata": {
    "colab": {
     "base_uri": "https://localhost:8080/"
    },
    "executionInfo": {
     "elapsed": 7089,
     "status": "ok",
     "timestamp": 1649608077426,
     "user": {
      "displayName": "김형진",
      "userId": "05530574334109307920"
     },
     "user_tz": -540
    },
    "id": "TAtrzndb7Vun",
    "outputId": "8f4607e3-fdf9-4d37-90bc-d0e33119a088"
   },
   "outputs": [
    {
     "name": "stdout",
     "output_type": "stream",
     "text": [
      "Downloading data from https://storage.googleapis.com/tensorflow/tf-keras-datasets/mnist.npz\n",
      "11493376/11490434 [==============================] - 1s 0us/step\n",
      "11501568/11490434 [==============================] - 1s 0us/step\n"
     ]
    }
   ],
   "source": [
    "import tensorflow as tf\n",
    "import numpy as np\n",
    "\n",
    "def pipe(data, batch_size = 128, shuffle = False):\n",
    "    dataset = tf.data.Dataset.from_tensor_slices(data)\n",
    "    if shuffle:\n",
    "        dataset = dataset.shuffle(buffer_size = batch_size * 10)\n",
    "    dataset = dataset.batch(batch_size)\n",
    "    #dataset = dataset.prefetch((batch_size * 2) + 1)\n",
    "    dataset = dataset.prefetch(tf.data.experimental.AUTOTUNE)\n",
    "    return dataset\n",
    "\n",
    "(tr_x, tr_y), (te_x, te_y) = tf.keras.datasets.mnist.load_data()\n",
    "\n",
    "tr_x = tr_x[(tr_y == 0)][:1000]\n",
    "tr_y = tr_y[(tr_y == 0)][:1000]\n",
    "\n",
    "te_x = te_x[np.logical_or(te_y == 0, te_y == 2)][:100]\n",
    "te_y = te_y[np.logical_or(te_y == 0, te_y == 2)][:100]\n",
    "\n",
    "tr_x = tf.image.resize(tf.tile(tf.expand_dims(tr_x, axis = -1), [1, 1, 1, 3]), [32,32]) #b, 28, 28 > b, 32, 32, 3\n",
    "te_x = tf.image.resize(tf.tile(tf.expand_dims(te_x, axis = -1), [1, 1, 1, 3]), [32,32]) #b, 28, 28 > b, 32, 32, 3\n",
    "\n",
    "tr_x = tr_x * 1/255\n",
    "te_x = te_x * 1/255\n",
    "\n",
    "batch_size = 128\n",
    "\n",
    "tr_data = pipe(tr_x, batch_size = batch_size, shuffle = True)\n",
    "te_data = pipe(te_x, batch_size = batch_size, shuffle = False)"
   ]
  },
  {
   "cell_type": "code",
   "execution_count": 3,
   "metadata": {
    "colab": {
     "base_uri": "https://localhost:8080/",
     "height": 67,
     "referenced_widgets": [
      "910be96d734045639defe3c3fbdc0bad",
      "9b3b79c721aa4e4bbfadb85c02a4dfee",
      "cd3c031704604b18b512ed664592a839",
      "bb4edf003a2e4bcbb98d7b14eee9cc54",
      "6dc9a96f95d34d70a9df01a8097c8a97",
      "d95395daba6a4d91951f7b60823ed134",
      "ace6e442e87c4f13a58dd521c9887f25",
      "b819555f1d064dea8fd68bbba3004082",
      "5b2d6593d65a49efb036217244c7cb12",
      "09cb1e0279514f2b84a754b530e60120",
      "27d6bd89f3e54f3f87eb89154150ee1f"
     ]
    },
    "executionInfo": {
     "elapsed": 33971,
     "status": "ok",
     "timestamp": 1649608111394,
     "user": {
      "displayName": "김형진",
      "userId": "05530574334109307920"
     },
     "user_tz": -540
    },
    "id": "ySaeM_5H7Q8A",
    "outputId": "3104ca38-c32e-46ba-fc76-2d9e5c7a475d"
   },
   "outputs": [
    {
     "name": "stderr",
     "output_type": "stream",
     "text": [
      "Downloading: \"https://download.pytorch.org/models/wide_resnet50_2-95faca4d.pth\" to /root/.cache/torch/hub/checkpoints/wide_resnet50_2-95faca4d.pth\n"
     ]
    },
    {
     "data": {
      "application/vnd.jupyter.widget-view+json": {
       "model_id": "910be96d734045639defe3c3fbdc0bad",
       "version_major": 2,
       "version_minor": 0
      },
      "text/plain": [
       "  0%|          | 0.00/132M [00:00<?, ?B/s]"
      ]
     },
     "metadata": {},
     "output_type": "display_data"
    }
   ],
   "source": [
    "import tfdet\n",
    "\n",
    "x = tf.keras.layers.Input(shape = (32, 32, 3))\n",
    "feature = tfdet.model.backbone.wide_resnet50_2_torch(x)[:3]\n",
    "model = tf.keras.Model(x, feature)\n",
    "feature = model.predict(tr_data)\n",
    "\n",
    "n_feature = sum([np.shape(f)[-1] for f in feature])\n",
    "sampling_index = np.random.choice(np.arange(n_feature), 550, replace = False)\n",
    "feature_vector = tfdet.model.train.spade.train(feature, sampling_index = sampling_index)"
   ]
  },
  {
   "cell_type": "code",
   "execution_count": 4,
   "metadata": {
    "executionInfo": {
     "elapsed": 5,
     "status": "ok",
     "timestamp": 1649608111394,
     "user": {
      "displayName": "김형진",
      "userId": "05530574334109307920"
     },
     "user_tz": -540
    },
    "id": "Weytx9VtYaXg"
   },
   "outputs": [],
   "source": [
    "import pickle\n",
    "\n",
    "#save feature & sampling index\n",
    "with open(\"feature_vector.pickle\", mode = \"wb\") as file:\n",
    "    pickle.dump(feature_vector, file)\n",
    "    \n",
    "with open(\"sampling_index.pickle\", mode = \"wb\") as file:\n",
    "    pickle.dump(sampling_index, file)"
   ]
  },
  {
   "cell_type": "code",
   "execution_count": 5,
   "metadata": {
    "executionInfo": {
     "elapsed": 4,
     "status": "ok",
     "timestamp": 1649608111395,
     "user": {
      "displayName": "김형진",
      "userId": "05530574334109307920"
     },
     "user_tz": -540
    },
    "id": "9Rx7ssmeh167"
   },
   "outputs": [],
   "source": [
    "#load feature & sampling index\n",
    "with open(\"feature_vector.pickle\", mode = \"rb\") as file:\n",
    "    feature_vector = pickle.load(file)\n",
    "\n",
    "with open(\"sampling_index.pickle\", mode = \"rb\") as file:\n",
    "    sampling_index = pickle.load(file)"
   ]
  },
  {
   "cell_type": "code",
   "execution_count": 6,
   "metadata": {
    "executionInfo": {
     "elapsed": 3887,
     "status": "ok",
     "timestamp": 1649608115279,
     "user": {
      "displayName": "김형진",
      "userId": "05530574334109307920"
     },
     "user_tz": -540
    },
    "id": "JTBoj3vrFLca"
   },
   "outputs": [],
   "source": [
    "x = tf.keras.layers.Input(shape = (32, 32, 3))\n",
    "feature = tfdet.model.backbone.wide_resnet50_2_torch(x)[:3]\n",
    "\n",
    "score, mask = tfdet.model.detector.spade(feature, feature_vector, sampling_index = sampling_index)\n",
    "model = tf.keras.Model(x, score)\n",
    "y_pred = model.predict(te_data)"
   ]
  },
  {
   "cell_type": "code",
   "execution_count": 7,
   "metadata": {
    "executionInfo": {
     "elapsed": 1993,
     "status": "ok",
     "timestamp": 1649608118745,
     "user": {
      "displayName": "김형진",
      "userId": "05530574334109307920"
     },
     "user_tz": -540
    },
    "id": "zj9TmsMAil3x"
   },
   "outputs": [],
   "source": [
    "threshold = tfdet.util.metric.get_threshold((0 < te_y).astype(int), y_pred)\n",
    "score, mask = tfdet.model.postprocess.spade.FilterDetection(threshold = threshold)([score, mask])\n",
    "model = tf.keras.Model(x, [score, mask])\n",
    "\n",
    "score, mask = model.predict(te_data)"
   ]
  },
  {
   "cell_type": "code",
   "execution_count": 8,
   "metadata": {
    "colab": {
     "base_uri": "https://localhost:8080/",
     "height": 555
    },
    "executionInfo": {
     "elapsed": 7,
     "status": "ok",
     "timestamp": 1649608118745,
     "user": {
      "displayName": "김형진",
      "userId": "05530574334109307920"
     },
     "user_tz": -540
    },
    "id": "NdAQaHMMsZ4F",
    "outputId": "d8f50db6-d620-4818-ec30-1f63ed12cb1d"
   },
   "outputs": [
    {
     "name": "stdout",
     "output_type": "stream",
     "text": [
      "y_true : True, y_pred : True\n"
     ]
    },
    {
     "data": {
      "text/plain": [
       "<matplotlib.image.AxesImage at 0x7f536bb4b410>"
      ]
     },
     "execution_count": 8,
     "metadata": {},
     "output_type": "execute_result"
    },
    {
     "data": {
      "image/png": "[encoded data removed]",
      "text/plain": [
       "<Figure size 432x288 with 1 Axes>"
      ]
     },
     "metadata": {
      "needs_background": "light"
     },
     "output_type": "display_data"
    },
    {
     "data": {
      "image/png": "[encoded data removed]",
      "text/plain": [
       "<Figure size 432x288 with 1 Axes>"
      ]
     },
     "metadata": {
      "needs_background": "light"
     },
     "output_type": "display_data"
    }
   ],
   "source": [
    "import matplotlib.pyplot as plt\n",
    "index = 0\n",
    "print(\"y_true : {0}, y_pred : {0}\".format(0 < te_y[index], 0 < score[index]))\n",
    "plt.imshow(te_x[index])\n",
    "plt.figure()\n",
    "plt.imshow(mask[index][..., 0])"
   ]
  },
  {
   "cell_type": "code",
   "execution_count": null,
   "metadata": {
    "id": "YKPn7AzuseAH"
   },
   "outputs": [],
   "source": []
  }
 ],
 "metadata": {
  "accelerator": "GPU",
  "colab": {
   "collapsed_sections": [],
   "name": "spade.ipynb",
   "provenance": []
  },
  "kernelspec": {
   "display_name": "Python 3",
   "language": "python",
   "name": "python3"
  },
  "language_info": {
   "codemirror_mode": {
    "name": "ipython",
    "version": 3
   },
   "file_extension": ".py",
   "mimetype": "text/x-python",
   "name": "python",
   "nbconvert_exporter": "python",
   "pygments_lexer": "ipython3",
   "version": "3.8.5"
  },
  "widgets": {
   "application/vnd.jupyter.widget-state+json": {
    "09cb1e0279514f2b84a754b530e60120": {
     "model_module": "@jupyter-widgets/base",
     "model_module_version": "1.2.0",
     "model_name": "LayoutModel",
     "state": {
      "_model_module": "@jupyter-widgets/base",
      "_model_module_version": "1.2.0",
      "_model_name": "LayoutModel",
      "_view_count": null,
      "_view_module": "@jupyter-widgets/base",
      "_view_module_version": "1.2.0",
      "_view_name": "LayoutView",
      "align_content": null,
      "align_items": null,
      "align_self": null,
      "border": null,
      "bottom": null,
      "display": null,
      "flex": null,
      "flex_flow": null,
      "grid_area": null,
      "grid_auto_columns": null,
      "grid_auto_flow": null,
      "grid_auto_rows": null,
      "grid_column": null,
      "grid_gap": null,
      "grid_row": null,
      "grid_template_areas": null,
      "grid_template_columns": null,
      "grid_template_rows": null,
      "height": null,
      "justify_content": null,
      "justify_items": null,
      "left": null,
      "margin": null,
      "max_height": null,
      "max_width": null,
      "min_height": null,
      "min_width": null,
      "object_fit": null,
      "object_position": null,
      "order": null,
      "overflow": null,
      "overflow_x": null,
      "overflow_y": null,
      "padding": null,
      "right": null,
      "top": null,
      "visibility": null,
      "width": null
     }
    },
    "27d6bd89f3e54f3f87eb89154150ee1f": {
     "model_module": "@jupyter-widgets/controls",
     "model_module_version": "1.5.0",
     "model_name": "DescriptionStyleModel",
     "state": {
      "_model_module": "@jupyter-widgets/controls",
      "_model_module_version": "1.5.0",
      "_model_name": "DescriptionStyleModel",
      "_view_count": null,
      "_view_module": "@jupyter-widgets/base",
      "_view_module_version": "1.2.0",
      "_view_name": "StyleView",
      "description_width": ""
     }
    },
    "5b2d6593d65a49efb036217244c7cb12": {
     "model_module": "@jupyter-widgets/controls",
     "model_module_version": "1.5.0",
     "model_name": "ProgressStyleModel",
     "state": {
      "_model_module": "@jupyter-widgets/controls",
      "_model_module_version": "1.5.0",
      "_model_name": "ProgressStyleModel",
      "_view_count": null,
      "_view_module": "@jupyter-widgets/base",
      "_view_module_version": "1.2.0",
      "_view_name": "StyleView",
      "bar_color": null,
      "description_width": ""
     }
    },
    "6dc9a96f95d34d70a9df01a8097c8a97": {
     "model_module": "@jupyter-widgets/base",
     "model_module_version": "1.2.0",
     "model_name": "LayoutModel",
     "state": {
      "_model_module": "@jupyter-widgets/base",
      "_model_module_version": "1.2.0",
      "_model_name": "LayoutModel",
      "_view_count": null,
      "_view_module": "@jupyter-widgets/base",
      "_view_module_version": "1.2.0",
      "_view_name": "LayoutView",
      "align_content": null,
      "align_items": null,
      "align_self": null,
      "border": null,
      "bottom": null,
      "display": null,
      "flex": null,
      "flex_flow": null,
      "grid_area": null,
      "grid_auto_columns": null,
      "grid_auto_flow": null,
      "grid_auto_rows": null,
      "grid_column": null,
      "grid_gap": null,
      "grid_row": null,
      "grid_template_areas": null,
      "grid_template_columns": null,
      "grid_template_rows": null,
      "height": null,
      "justify_content": null,
      "justify_items": null,
      "left": null,
      "margin": null,
      "max_height": null,
      "max_width": null,
      "min_height": null,
      "min_width": null,
      "object_fit": null,
      "object_position": null,
      "order": null,
      "overflow": null,
      "overflow_x": null,
      "overflow_y": null,
      "padding": null,
      "right": null,
      "top": null,
      "visibility": null,
      "width": null
     }
    },
    "910be96d734045639defe3c3fbdc0bad": {
     "model_module": "@jupyter-widgets/controls",
     "model_module_version": "1.5.0",
     "model_name": "HBoxModel",
     "state": {
      "_dom_classes": [],
      "_model_module": "@jupyter-widgets/controls",
      "_model_module_version": "1.5.0",
      "_model_name": "HBoxModel",
      "_view_count": null,
      "_view_module": "@jupyter-widgets/controls",
      "_view_module_version": "1.5.0",
      "_view_name": "HBoxView",
      "box_style": "",
      "children": [
       "IPY_MODEL_9b3b79c721aa4e4bbfadb85c02a4dfee",
       "IPY_MODEL_cd3c031704604b18b512ed664592a839",
       "IPY_MODEL_bb4edf003a2e4bcbb98d7b14eee9cc54"
      ],
      "layout": "IPY_MODEL_6dc9a96f95d34d70a9df01a8097c8a97"
     }
    },
    "9b3b79c721aa4e4bbfadb85c02a4dfee": {
     "model_module": "@jupyter-widgets/controls",
     "model_module_version": "1.5.0",
     "model_name": "HTMLModel",
     "state": {
      "_dom_classes": [],
      "_model_module": "@jupyter-widgets/controls",
      "_model_module_version": "1.5.0",
      "_model_name": "HTMLModel",
      "_view_count": null,
      "_view_module": "@jupyter-widgets/controls",
      "_view_module_version": "1.5.0",
      "_view_name": "HTMLView",
      "description": "",
      "description_tooltip": null,
      "layout": "IPY_MODEL_d95395daba6a4d91951f7b60823ed134",
      "placeholder": "​",
      "style": "IPY_MODEL_ace6e442e87c4f13a58dd521c9887f25",
      "value": "100%"
     }
    },
    "ace6e442e87c4f13a58dd521c9887f25": {
     "model_module": "@jupyter-widgets/controls",
     "model_module_version": "1.5.0",
     "model_name": "DescriptionStyleModel",
     "state": {
      "_model_module": "@jupyter-widgets/controls",
      "_model_module_version": "1.5.0",
      "_model_name": "DescriptionStyleModel",
      "_view_count": null,
      "_view_module": "@jupyter-widgets/base",
      "_view_module_version": "1.2.0",
      "_view_name": "StyleView",
      "description_width": ""
     }
    },
    "b819555f1d064dea8fd68bbba3004082": {
     "model_module": "@jupyter-widgets/base",
     "model_module_version": "1.2.0",
     "model_name": "LayoutModel",
     "state": {
      "_model_module": "@jupyter-widgets/base",
      "_model_module_version": "1.2.0",
      "_model_name": "LayoutModel",
      "_view_count": null,
      "_view_module": "@jupyter-widgets/base",
      "_view_module_version": "1.2.0",
      "_view_name": "LayoutView",
      "align_content": null,
      "align_items": null,
      "align_self": null,
      "border": null,
      "bottom": null,
      "display": null,
      "flex": null,
      "flex_flow": null,
      "grid_area": null,
      "grid_auto_columns": null,
      "grid_auto_flow": null,
      "grid_auto_rows": null,
      "grid_column": null,
      "grid_gap": null,
      "grid_row": null,
      "grid_template_areas": null,
      "grid_template_columns": null,
      "grid_template_rows": null,
      "height": null,
      "justify_content": null,
      "justify_items": null,
      "left": null,
      "margin": null,
      "max_height": null,
      "max_width": null,
      "min_height": null,
      "min_width": null,
      "object_fit": null,
      "object_position": null,
      "order": null,
      "overflow": null,
      "overflow_x": null,
      "overflow_y": null,
      "padding": null,
      "right": null,
      "top": null,
      "visibility": null,
      "width": null
     }
    },
    "bb4edf003a2e4bcbb98d7b14eee9cc54": {
     "model_module": "@jupyter-widgets/controls",
     "model_module_version": "1.5.0",
     "model_name": "HTMLModel",
     "state": {
      "_dom_classes": [],
      "_model_module": "@jupyter-widgets/controls",
      "_model_module_version": "1.5.0",
      "_model_name": "HTMLModel",
      "_view_count": null,
      "_view_module": "@jupyter-widgets/controls",
      "_view_module_version": "1.5.0",
      "_view_name": "HTMLView",
      "description": "",
      "description_tooltip": null,
      "layout": "IPY_MODEL_09cb1e0279514f2b84a754b530e60120",
      "placeholder": "​",
      "style": "IPY_MODEL_27d6bd89f3e54f3f87eb89154150ee1f",
      "value": " 132M/132M [00:02&lt;00:00, 52.3MB/s]"
     }
    },
    "cd3c031704604b18b512ed664592a839": {
     "model_module": "@jupyter-widgets/controls",
     "model_module_version": "1.5.0",
     "model_name": "FloatProgressModel",
     "state": {
      "_dom_classes": [],
      "_model_module": "@jupyter-widgets/controls",
      "_model_module_version": "1.5.0",
      "_model_name": "FloatProgressModel",
      "_view_count": null,
      "_view_module": "@jupyter-widgets/controls",
      "_view_module_version": "1.5.0",
      "_view_name": "ProgressView",
      "bar_style": "success",
      "description": "",
      "description_tooltip": null,
      "layout": "IPY_MODEL_b819555f1d064dea8fd68bbba3004082",
      "max": 138223492,
      "min": 0,
      "orientation": "horizontal",
      "style": "IPY_MODEL_5b2d6593d65a49efb036217244c7cb12",
      "value": 138223492
     }
    },
    "d95395daba6a4d91951f7b60823ed134": {
     "model_module": "@jupyter-widgets/base",
     "model_module_version": "1.2.0",
     "model_name": "LayoutModel",
     "state": {
      "_model_module": "@jupyter-widgets/base",
      "_model_module_version": "1.2.0",
      "_model_name": "LayoutModel",
      "_view_count": null,
      "_view_module": "@jupyter-widgets/base",
      "_view_module_version": "1.2.0",
      "_view_name": "LayoutView",
      "align_content": null,
      "align_items": null,
      "align_self": null,
      "border": null,
      "bottom": null,
      "display": null,
      "flex": null,
      "flex_flow": null,
      "grid_area": null,
      "grid_auto_columns": null,
      "grid_auto_flow": null,
      "grid_auto_rows": null,
      "grid_column": null,
      "grid_gap": null,
      "grid_row": null,
      "grid_template_areas": null,
      "grid_template_columns": null,
      "grid_template_rows": null,
      "height": null,
      "justify_content": null,
      "justify_items": null,
      "left": null,
      "margin": null,
      "max_height": null,
      "max_width": null,
      "min_height": null,
      "min_width": null,
      "object_fit": null,
      "object_position": null,
      "order": null,
      "overflow": null,
      "overflow_x": null,
      "overflow_y": null,
      "padding": null,
      "right": null,
      "top": null,
      "visibility": null,
      "width": null
     }
    }
   }
  }
 },
 "nbformat": 4,
 "nbformat_minor": 4
}
